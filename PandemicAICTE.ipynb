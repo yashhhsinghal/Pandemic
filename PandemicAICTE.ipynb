{
  "nbformat": 4,
  "nbformat_minor": 0,
  "metadata": {
    "colab": {
      "provenance": []
    },
    "kernelspec": {
      "name": "python3",
      "display_name": "Python 3"
    },
    "language_info": {
      "name": "python"
    }
  },
  "cells": [
    {
      "cell_type": "code",
      "execution_count": 1,
      "metadata": {
        "id": "Sw1T15vyAaTZ"
      },
      "outputs": [],
      "source": [
        "import numpy as np\n",
        "import pandas as pd\n",
        "import matplotlib.pyplot as plt\n",
        "import seaborn as sns\n",
        "from sklearn.utils import resample\n",
        "from sklearn.model_selection import train_test_split, GridSearchCV, cross_val_score\n",
        "from sklearn.ensemble import RandomForestClassifier\n",
        "from sklearn.metrics import confusion_matrix, classification_report, accuracy_score\n",
        "from sklearn.preprocessing import StandardScaler\n",
        "import joblib"
      ]
    },
    {
      "cell_type": "markdown",
      "source": [
        "**Data Collection and Processing**"
      ],
      "metadata": {
        "id": "ESBgjvQIBEOi"
      }
    },
    {
      "cell_type": "code",
      "source": [
        "#load the dataset into a pandas dataframe\n",
        "df = pd.read_csv('/content/PandemicAICTE.csv')\n"
      ],
      "metadata": {
        "id": "b-gYxUoCBRH9"
      },
      "execution_count": 3,
      "outputs": []
    },
    {
      "cell_type": "code",
      "source": [
        "df.shape"
      ],
      "metadata": {
        "colab": {
          "base_uri": "https://localhost:8080/"
        },
        "id": "tAJzj8QqBac-",
        "outputId": "a4632ff6-b5a4-4fb5-99c3-4fbc91e1b6a7"
      },
      "execution_count": 4,
      "outputs": [
        {
          "output_type": "execute_result",
          "data": {
            "text/plain": [
              "(10521, 12)"
            ]
          },
          "metadata": {},
          "execution_count": 4
        }
      ]
    },
    {
      "cell_type": "code",
      "source": [
        "df.head()"
      ],
      "metadata": {
        "colab": {
          "base_uri": "https://localhost:8080/",
          "height": 289
        },
        "id": "DIU5eAwABfMJ",
        "outputId": "7b3d2091-9ef6-4ae0-c69b-4ad8fa9e7d00"
      },
      "execution_count": 5,
      "outputs": [
        {
          "output_type": "execute_result",
          "data": {
            "text/plain": [
              "        Entity Code  Year  Indicator:Number of cases of yaws reported  \\\n",
              "0  Afghanistan  AFG  1980                                         NaN   \n",
              "1  Afghanistan  AFG  1981                                         NaN   \n",
              "2  Afghanistan  AFG  1982                                         NaN   \n",
              "3  Afghanistan  AFG  1983                                         NaN   \n",
              "4  Afghanistan  AFG  1984                                         NaN   \n",
              "\n",
              "   Total (estimated) polio cases  \\\n",
              "0                         6160.0   \n",
              "1                         5859.0   \n",
              "2                         9730.0   \n",
              "3                        13937.0   \n",
              "4                         3864.0   \n",
              "\n",
              "   Reported cases of guinea worm disease in humans  \\\n",
              "0                                              0.0   \n",
              "1                                              0.0   \n",
              "2                                              0.0   \n",
              "3                                              0.0   \n",
              "4                                              0.0   \n",
              "\n",
              "   Number of new cases of rabies, in both sexes aged all ages  \\\n",
              "0                                                NaN            \n",
              "1                                                NaN            \n",
              "2                                                NaN            \n",
              "3                                                NaN            \n",
              "4                                                NaN            \n",
              "\n",
              "   Number of new cases of malaria, in both sexes aged all ages  \\\n",
              "0                                                NaN             \n",
              "1                                                NaN             \n",
              "2                                                NaN             \n",
              "3                                                NaN             \n",
              "4                                                NaN             \n",
              "\n",
              "   Number of new cases of hiv/aids, in both sexes aged all ages  \\\n",
              "0                                                NaN              \n",
              "1                                                NaN              \n",
              "2                                                NaN              \n",
              "3                                                NaN              \n",
              "4                                                NaN              \n",
              "\n",
              "   Number of new cases of tuberculosis, in both sexes aged all ages  \\\n",
              "0                                                NaN                  \n",
              "1                                                NaN                  \n",
              "2                                                NaN                  \n",
              "3                                                NaN                  \n",
              "4                                                NaN                  \n",
              "\n",
              "   Number of reported smallpox cases  Reported cholera cases  \n",
              "0                                NaN                     NaN  \n",
              "1                                NaN                     NaN  \n",
              "2                                NaN                     NaN  \n",
              "3                                NaN                     NaN  \n",
              "4                                NaN                     NaN  "
            ],
            "text/html": [
              "\n",
              "  <div id=\"df-08b9ce84-70be-4cf6-ab19-60b5cd2f3de2\" class=\"colab-df-container\">\n",
              "    <div>\n",
              "<style scoped>\n",
              "    .dataframe tbody tr th:only-of-type {\n",
              "        vertical-align: middle;\n",
              "    }\n",
              "\n",
              "    .dataframe tbody tr th {\n",
              "        vertical-align: top;\n",
              "    }\n",
              "\n",
              "    .dataframe thead th {\n",
              "        text-align: right;\n",
              "    }\n",
              "</style>\n",
              "<table border=\"1\" class=\"dataframe\">\n",
              "  <thead>\n",
              "    <tr style=\"text-align: right;\">\n",
              "      <th></th>\n",
              "      <th>Entity</th>\n",
              "      <th>Code</th>\n",
              "      <th>Year</th>\n",
              "      <th>Indicator:Number of cases of yaws reported</th>\n",
              "      <th>Total (estimated) polio cases</th>\n",
              "      <th>Reported cases of guinea worm disease in humans</th>\n",
              "      <th>Number of new cases of rabies, in both sexes aged all ages</th>\n",
              "      <th>Number of new cases of malaria, in both sexes aged all ages</th>\n",
              "      <th>Number of new cases of hiv/aids, in both sexes aged all ages</th>\n",
              "      <th>Number of new cases of tuberculosis, in both sexes aged all ages</th>\n",
              "      <th>Number of reported smallpox cases</th>\n",
              "      <th>Reported cholera cases</th>\n",
              "    </tr>\n",
              "  </thead>\n",
              "  <tbody>\n",
              "    <tr>\n",
              "      <th>0</th>\n",
              "      <td>Afghanistan</td>\n",
              "      <td>AFG</td>\n",
              "      <td>1980</td>\n",
              "      <td>NaN</td>\n",
              "      <td>6160.0</td>\n",
              "      <td>0.0</td>\n",
              "      <td>NaN</td>\n",
              "      <td>NaN</td>\n",
              "      <td>NaN</td>\n",
              "      <td>NaN</td>\n",
              "      <td>NaN</td>\n",
              "      <td>NaN</td>\n",
              "    </tr>\n",
              "    <tr>\n",
              "      <th>1</th>\n",
              "      <td>Afghanistan</td>\n",
              "      <td>AFG</td>\n",
              "      <td>1981</td>\n",
              "      <td>NaN</td>\n",
              "      <td>5859.0</td>\n",
              "      <td>0.0</td>\n",
              "      <td>NaN</td>\n",
              "      <td>NaN</td>\n",
              "      <td>NaN</td>\n",
              "      <td>NaN</td>\n",
              "      <td>NaN</td>\n",
              "      <td>NaN</td>\n",
              "    </tr>\n",
              "    <tr>\n",
              "      <th>2</th>\n",
              "      <td>Afghanistan</td>\n",
              "      <td>AFG</td>\n",
              "      <td>1982</td>\n",
              "      <td>NaN</td>\n",
              "      <td>9730.0</td>\n",
              "      <td>0.0</td>\n",
              "      <td>NaN</td>\n",
              "      <td>NaN</td>\n",
              "      <td>NaN</td>\n",
              "      <td>NaN</td>\n",
              "      <td>NaN</td>\n",
              "      <td>NaN</td>\n",
              "    </tr>\n",
              "    <tr>\n",
              "      <th>3</th>\n",
              "      <td>Afghanistan</td>\n",
              "      <td>AFG</td>\n",
              "      <td>1983</td>\n",
              "      <td>NaN</td>\n",
              "      <td>13937.0</td>\n",
              "      <td>0.0</td>\n",
              "      <td>NaN</td>\n",
              "      <td>NaN</td>\n",
              "      <td>NaN</td>\n",
              "      <td>NaN</td>\n",
              "      <td>NaN</td>\n",
              "      <td>NaN</td>\n",
              "    </tr>\n",
              "    <tr>\n",
              "      <th>4</th>\n",
              "      <td>Afghanistan</td>\n",
              "      <td>AFG</td>\n",
              "      <td>1984</td>\n",
              "      <td>NaN</td>\n",
              "      <td>3864.0</td>\n",
              "      <td>0.0</td>\n",
              "      <td>NaN</td>\n",
              "      <td>NaN</td>\n",
              "      <td>NaN</td>\n",
              "      <td>NaN</td>\n",
              "      <td>NaN</td>\n",
              "      <td>NaN</td>\n",
              "    </tr>\n",
              "  </tbody>\n",
              "</table>\n",
              "</div>\n",
              "    <div class=\"colab-df-buttons\">\n",
              "\n",
              "  <div class=\"colab-df-container\">\n",
              "    <button class=\"colab-df-convert\" onclick=\"convertToInteractive('df-08b9ce84-70be-4cf6-ab19-60b5cd2f3de2')\"\n",
              "            title=\"Convert this dataframe to an interactive table.\"\n",
              "            style=\"display:none;\">\n",
              "\n",
              "  <svg xmlns=\"http://www.w3.org/2000/svg\" height=\"24px\" viewBox=\"0 -960 960 960\">\n",
              "    <path d=\"M120-120v-720h720v720H120Zm60-500h600v-160H180v160Zm220 220h160v-160H400v160Zm0 220h160v-160H400v160ZM180-400h160v-160H180v160Zm440 0h160v-160H620v160ZM180-180h160v-160H180v160Zm440 0h160v-160H620v160Z\"/>\n",
              "  </svg>\n",
              "    </button>\n",
              "\n",
              "  <style>\n",
              "    .colab-df-container {\n",
              "      display:flex;\n",
              "      gap: 12px;\n",
              "    }\n",
              "\n",
              "    .colab-df-convert {\n",
              "      background-color: #E8F0FE;\n",
              "      border: none;\n",
              "      border-radius: 50%;\n",
              "      cursor: pointer;\n",
              "      display: none;\n",
              "      fill: #1967D2;\n",
              "      height: 32px;\n",
              "      padding: 0 0 0 0;\n",
              "      width: 32px;\n",
              "    }\n",
              "\n",
              "    .colab-df-convert:hover {\n",
              "      background-color: #E2EBFA;\n",
              "      box-shadow: 0px 1px 2px rgba(60, 64, 67, 0.3), 0px 1px 3px 1px rgba(60, 64, 67, 0.15);\n",
              "      fill: #174EA6;\n",
              "    }\n",
              "\n",
              "    .colab-df-buttons div {\n",
              "      margin-bottom: 4px;\n",
              "    }\n",
              "\n",
              "    [theme=dark] .colab-df-convert {\n",
              "      background-color: #3B4455;\n",
              "      fill: #D2E3FC;\n",
              "    }\n",
              "\n",
              "    [theme=dark] .colab-df-convert:hover {\n",
              "      background-color: #434B5C;\n",
              "      box-shadow: 0px 1px 3px 1px rgba(0, 0, 0, 0.15);\n",
              "      filter: drop-shadow(0px 1px 2px rgba(0, 0, 0, 0.3));\n",
              "      fill: #FFFFFF;\n",
              "    }\n",
              "  </style>\n",
              "\n",
              "    <script>\n",
              "      const buttonEl =\n",
              "        document.querySelector('#df-08b9ce84-70be-4cf6-ab19-60b5cd2f3de2 button.colab-df-convert');\n",
              "      buttonEl.style.display =\n",
              "        google.colab.kernel.accessAllowed ? 'block' : 'none';\n",
              "\n",
              "      async function convertToInteractive(key) {\n",
              "        const element = document.querySelector('#df-08b9ce84-70be-4cf6-ab19-60b5cd2f3de2');\n",
              "        const dataTable =\n",
              "          await google.colab.kernel.invokeFunction('convertToInteractive',\n",
              "                                                    [key], {});\n",
              "        if (!dataTable) return;\n",
              "\n",
              "        const docLinkHtml = 'Like what you see? Visit the ' +\n",
              "          '<a target=\"_blank\" href=https://colab.research.google.com/notebooks/data_table.ipynb>data table notebook</a>'\n",
              "          + ' to learn more about interactive tables.';\n",
              "        element.innerHTML = '';\n",
              "        dataTable['output_type'] = 'display_data';\n",
              "        await google.colab.output.renderOutput(dataTable, element);\n",
              "        const docLink = document.createElement('div');\n",
              "        docLink.innerHTML = docLinkHtml;\n",
              "        element.appendChild(docLink);\n",
              "      }\n",
              "    </script>\n",
              "  </div>\n",
              "\n",
              "\n",
              "    <div id=\"df-38fea1b0-c6cd-4023-a3e1-19038d3e3868\">\n",
              "      <button class=\"colab-df-quickchart\" onclick=\"quickchart('df-38fea1b0-c6cd-4023-a3e1-19038d3e3868')\"\n",
              "                title=\"Suggest charts\"\n",
              "                style=\"display:none;\">\n",
              "\n",
              "<svg xmlns=\"http://www.w3.org/2000/svg\" height=\"24px\"viewBox=\"0 0 24 24\"\n",
              "     width=\"24px\">\n",
              "    <g>\n",
              "        <path d=\"M19 3H5c-1.1 0-2 .9-2 2v14c0 1.1.9 2 2 2h14c1.1 0 2-.9 2-2V5c0-1.1-.9-2-2-2zM9 17H7v-7h2v7zm4 0h-2V7h2v10zm4 0h-2v-4h2v4z\"/>\n",
              "    </g>\n",
              "</svg>\n",
              "      </button>\n",
              "\n",
              "<style>\n",
              "  .colab-df-quickchart {\n",
              "      --bg-color: #E8F0FE;\n",
              "      --fill-color: #1967D2;\n",
              "      --hover-bg-color: #E2EBFA;\n",
              "      --hover-fill-color: #174EA6;\n",
              "      --disabled-fill-color: #AAA;\n",
              "      --disabled-bg-color: #DDD;\n",
              "  }\n",
              "\n",
              "  [theme=dark] .colab-df-quickchart {\n",
              "      --bg-color: #3B4455;\n",
              "      --fill-color: #D2E3FC;\n",
              "      --hover-bg-color: #434B5C;\n",
              "      --hover-fill-color: #FFFFFF;\n",
              "      --disabled-bg-color: #3B4455;\n",
              "      --disabled-fill-color: #666;\n",
              "  }\n",
              "\n",
              "  .colab-df-quickchart {\n",
              "    background-color: var(--bg-color);\n",
              "    border: none;\n",
              "    border-radius: 50%;\n",
              "    cursor: pointer;\n",
              "    display: none;\n",
              "    fill: var(--fill-color);\n",
              "    height: 32px;\n",
              "    padding: 0;\n",
              "    width: 32px;\n",
              "  }\n",
              "\n",
              "  .colab-df-quickchart:hover {\n",
              "    background-color: var(--hover-bg-color);\n",
              "    box-shadow: 0 1px 2px rgba(60, 64, 67, 0.3), 0 1px 3px 1px rgba(60, 64, 67, 0.15);\n",
              "    fill: var(--button-hover-fill-color);\n",
              "  }\n",
              "\n",
              "  .colab-df-quickchart-complete:disabled,\n",
              "  .colab-df-quickchart-complete:disabled:hover {\n",
              "    background-color: var(--disabled-bg-color);\n",
              "    fill: var(--disabled-fill-color);\n",
              "    box-shadow: none;\n",
              "  }\n",
              "\n",
              "  .colab-df-spinner {\n",
              "    border: 2px solid var(--fill-color);\n",
              "    border-color: transparent;\n",
              "    border-bottom-color: var(--fill-color);\n",
              "    animation:\n",
              "      spin 1s steps(1) infinite;\n",
              "  }\n",
              "\n",
              "  @keyframes spin {\n",
              "    0% {\n",
              "      border-color: transparent;\n",
              "      border-bottom-color: var(--fill-color);\n",
              "      border-left-color: var(--fill-color);\n",
              "    }\n",
              "    20% {\n",
              "      border-color: transparent;\n",
              "      border-left-color: var(--fill-color);\n",
              "      border-top-color: var(--fill-color);\n",
              "    }\n",
              "    30% {\n",
              "      border-color: transparent;\n",
              "      border-left-color: var(--fill-color);\n",
              "      border-top-color: var(--fill-color);\n",
              "      border-right-color: var(--fill-color);\n",
              "    }\n",
              "    40% {\n",
              "      border-color: transparent;\n",
              "      border-right-color: var(--fill-color);\n",
              "      border-top-color: var(--fill-color);\n",
              "    }\n",
              "    60% {\n",
              "      border-color: transparent;\n",
              "      border-right-color: var(--fill-color);\n",
              "    }\n",
              "    80% {\n",
              "      border-color: transparent;\n",
              "      border-right-color: var(--fill-color);\n",
              "      border-bottom-color: var(--fill-color);\n",
              "    }\n",
              "    90% {\n",
              "      border-color: transparent;\n",
              "      border-bottom-color: var(--fill-color);\n",
              "    }\n",
              "  }\n",
              "</style>\n",
              "\n",
              "      <script>\n",
              "        async function quickchart(key) {\n",
              "          const quickchartButtonEl =\n",
              "            document.querySelector('#' + key + ' button');\n",
              "          quickchartButtonEl.disabled = true;  // To prevent multiple clicks.\n",
              "          quickchartButtonEl.classList.add('colab-df-spinner');\n",
              "          try {\n",
              "            const charts = await google.colab.kernel.invokeFunction(\n",
              "                'suggestCharts', [key], {});\n",
              "          } catch (error) {\n",
              "            console.error('Error during call to suggestCharts:', error);\n",
              "          }\n",
              "          quickchartButtonEl.classList.remove('colab-df-spinner');\n",
              "          quickchartButtonEl.classList.add('colab-df-quickchart-complete');\n",
              "        }\n",
              "        (() => {\n",
              "          let quickchartButtonEl =\n",
              "            document.querySelector('#df-38fea1b0-c6cd-4023-a3e1-19038d3e3868 button');\n",
              "          quickchartButtonEl.style.display =\n",
              "            google.colab.kernel.accessAllowed ? 'block' : 'none';\n",
              "        })();\n",
              "      </script>\n",
              "    </div>\n",
              "\n",
              "    </div>\n",
              "  </div>\n"
            ],
            "application/vnd.google.colaboratory.intrinsic+json": {
              "type": "dataframe",
              "variable_name": "df",
              "summary": "{\n  \"name\": \"df\",\n  \"rows\": 10521,\n  \"fields\": [\n    {\n      \"column\": \"Entity\",\n      \"properties\": {\n        \"dtype\": \"category\",\n        \"num_unique_values\": 245,\n        \"samples\": [\n          \"Bermuda\",\n          \"Americas\",\n          \"North America (WB)\"\n        ],\n        \"semantic_type\": \"\",\n        \"description\": \"\"\n      }\n    },\n    {\n      \"column\": \"Code\",\n      \"properties\": {\n        \"dtype\": \"category\",\n        \"num_unique_values\": 211,\n        \"samples\": [\n          \"KHM\",\n          \"ZAF\",\n          \"PLW\"\n        ],\n        \"semantic_type\": \"\",\n        \"description\": \"\"\n      }\n    },\n    {\n      \"column\": \"Year\",\n      \"properties\": {\n        \"dtype\": \"number\",\n        \"std\": 14,\n        \"min\": 1920,\n        \"max\": 2023,\n        \"num_unique_values\": 104,\n        \"samples\": [\n          2014,\n          1959,\n          1958\n        ],\n        \"semantic_type\": \"\",\n        \"description\": \"\"\n      }\n    },\n    {\n      \"column\": \"Indicator:Number of cases of yaws reported\",\n      \"properties\": {\n        \"dtype\": \"number\",\n        \"std\": 19382.27279643117,\n        \"min\": 7.0,\n        \"max\": 80226.0,\n        \"num_unique_values\": 71,\n        \"samples\": [\n          35248.0,\n          45.0,\n          14909.0\n        ],\n        \"semantic_type\": \"\",\n        \"description\": \"\"\n      }\n    },\n    {\n      \"column\": \"Total (estimated) polio cases\",\n      \"properties\": {\n        \"dtype\": \"number\",\n        \"std\": 14783.232040217597,\n        \"min\": 0.0,\n        \"max\": 460159.0,\n        \"num_unique_values\": 647,\n        \"samples\": [\n          5054.0,\n          23072.0,\n          1932.0\n        ],\n        \"semantic_type\": \"\",\n        \"description\": \"\"\n      }\n    },\n    {\n      \"column\": \"Reported cases of guinea worm disease in humans\",\n      \"properties\": {\n        \"dtype\": \"number\",\n        \"std\": 21048.742523946003,\n        \"min\": 0.0,\n        \"max\": 892055.0,\n        \"num_unique_values\": 360,\n        \"samples\": [\n          8777.0,\n          5.0,\n          951.0\n        ],\n        \"semantic_type\": \"\",\n        \"description\": \"\"\n      }\n    },\n    {\n      \"column\": \"Number of new cases of rabies, in both sexes aged all ages\",\n      \"properties\": {\n        \"dtype\": \"number\",\n        \"std\": 2285.0293170985747,\n        \"min\": 5.5092813e-05,\n        \"max\": 24744.658,\n        \"num_unique_values\": 6780,\n        \"samples\": [\n          1344.5122,\n          0.022227826,\n          140.15422\n        ],\n        \"semantic_type\": \"\",\n        \"description\": \"\"\n      }\n    },\n    {\n      \"column\": \"Number of new cases of malaria, in both sexes aged all ages\",\n      \"properties\": {\n        \"dtype\": \"number\",\n        \"std\": 28087220.148471877,\n        \"min\": 0.0,\n        \"max\": 264138050.0,\n        \"num_unique_values\": 3407,\n        \"samples\": [\n          168662370.0,\n          1214688.2,\n          2668.2246\n        ],\n        \"semantic_type\": \"\",\n        \"description\": \"\"\n      }\n    },\n    {\n      \"column\": \"Number of new cases of hiv/aids, in both sexes aged all ages\",\n      \"properties\": {\n        \"dtype\": \"number\",\n        \"std\": 283406.02844393876,\n        \"min\": 0.0,\n        \"max\": 3310626.8,\n        \"num_unique_values\": 6776,\n        \"samples\": [\n          178.8381,\n          64.4378,\n          161.03326\n        ],\n        \"semantic_type\": \"\",\n        \"description\": \"\"\n      }\n    },\n    {\n      \"column\": \"Number of new cases of tuberculosis, in both sexes aged all ages\",\n      \"properties\": {\n        \"dtype\": \"number\",\n        \"std\": 900901.3718336979,\n        \"min\": 0.51129794,\n        \"max\": 8957511.0,\n        \"num_unique_values\": 6779,\n        \"samples\": [\n          516972.12,\n          3988.8088,\n          31.387629\n        ],\n        \"semantic_type\": \"\",\n        \"description\": \"\"\n      }\n    },\n    {\n      \"column\": \"Number of reported smallpox cases\",\n      \"properties\": {\n        \"dtype\": \"number\",\n        \"std\": 140974.68695800062,\n        \"min\": 0.0,\n        \"max\": 632858.0,\n        \"num_unique_values\": 60,\n        \"samples\": [\n          0.0,\n          186354.0,\n          91823.0\n        ],\n        \"semantic_type\": \"\",\n        \"description\": \"\"\n      }\n    },\n    {\n      \"column\": \"Reported cholera cases\",\n      \"properties\": {\n        \"dtype\": \"number\",\n        \"std\": 59879.42621616881,\n        \"min\": 0.0,\n        \"max\": 1227391.0,\n        \"num_unique_values\": 1574,\n        \"samples\": [\n          5591.0,\n          5222.0,\n          7839.0\n        ],\n        \"semantic_type\": \"\",\n        \"description\": \"\"\n      }\n    }\n  ]\n}"
            }
          },
          "metadata": {},
          "execution_count": 5
        }
      ]
    },
    {
      "cell_type": "code",
      "source": [
        "print(\"Data Info:\")\n",
        "df.info()"
      ],
      "metadata": {
        "colab": {
          "base_uri": "https://localhost:8080/"
        },
        "id": "Zn9YibdRBnPX",
        "outputId": "42c0db8f-9e77-45a0-d9a5-25b7949beca3"
      },
      "execution_count": 6,
      "outputs": [
        {
          "output_type": "stream",
          "name": "stdout",
          "text": [
            "Data Info:\n",
            "<class 'pandas.core.frame.DataFrame'>\n",
            "RangeIndex: 10521 entries, 0 to 10520\n",
            "Data columns (total 12 columns):\n",
            " #   Column                                                            Non-Null Count  Dtype  \n",
            "---  ------                                                            --------------  -----  \n",
            " 0   Entity                                                            10521 non-null  object \n",
            " 1   Code                                                              9393 non-null   object \n",
            " 2   Year                                                              10521 non-null  int64  \n",
            " 3   Indicator:Number of cases of yaws reported                        74 non-null     float64\n",
            " 4   Total (estimated) polio cases                                     7610 non-null   float64\n",
            " 5   Reported cases of guinea worm disease in humans                   8428 non-null   float64\n",
            " 6   Number of new cases of rabies, in both sexes aged all ages        6780 non-null   float64\n",
            " 7   Number of new cases of malaria, in both sexes aged all ages       6780 non-null   float64\n",
            " 8   Number of new cases of hiv/aids, in both sexes aged all ages      6780 non-null   float64\n",
            " 9   Number of new cases of tuberculosis, in both sexes aged all ages  6780 non-null   float64\n",
            " 10  Number of reported smallpox cases                                 104 non-null    float64\n",
            " 11  Reported cholera cases                                            2967 non-null   float64\n",
            "dtypes: float64(9), int64(1), object(2)\n",
            "memory usage: 986.5+ KB\n"
          ]
        }
      ]
    },
    {
      "cell_type": "code",
      "source": [
        "# remove extra  spaces in all columns\n",
        "df.columns = df.columns.str.strip()"
      ],
      "metadata": {
        "id": "W-nRz21GDwix"
      },
      "execution_count": 7,
      "outputs": []
    },
    {
      "cell_type": "code",
      "source": [
        "df.columns"
      ],
      "metadata": {
        "colab": {
          "base_uri": "https://localhost:8080/"
        },
        "id": "korl9gFXtNCX",
        "outputId": "c9b97da0-b530-4021-c09f-976142fc9faa"
      },
      "execution_count": 8,
      "outputs": [
        {
          "output_type": "execute_result",
          "data": {
            "text/plain": [
              "Index(['Entity', 'Code', 'Year', 'Indicator:Number of cases of yaws reported',\n",
              "       'Total (estimated) polio cases',\n",
              "       'Reported cases of guinea worm disease in humans',\n",
              "       'Number of new cases of rabies, in both sexes aged all ages',\n",
              "       'Number of new cases of malaria, in both sexes aged all ages',\n",
              "       'Number of new cases of hiv/aids, in both sexes aged all ages',\n",
              "       'Number of new cases of tuberculosis, in both sexes aged all ages',\n",
              "       'Number of reported smallpox cases', 'Reported cholera cases'],\n",
              "      dtype='object')"
            ]
          },
          "metadata": {},
          "execution_count": 8
        }
      ]
    },
    {
      "cell_type": "code",
      "source": [
        "df.describe()"
      ],
      "metadata": {
        "colab": {
          "base_uri": "https://localhost:8080/",
          "height": 382
        },
        "id": "iW-ECjsOvC6c",
        "outputId": "ef4fd0f1-d5e0-493d-e83c-5113ab1be039"
      },
      "execution_count": 9,
      "outputs": [
        {
          "output_type": "execute_result",
          "data": {
            "text/plain": [
              "               Year  Indicator:Number of cases of yaws reported  \\\n",
              "count  10521.000000                                   74.000000   \n",
              "mean    1999.301017                                14088.108108   \n",
              "std       14.432364                                19382.272796   \n",
              "min     1920.000000                                    7.000000   \n",
              "25%     1989.000000                                  685.000000   \n",
              "50%     2000.000000                                 3361.000000   \n",
              "75%     2011.000000                                20321.250000   \n",
              "max     2023.000000                                80226.000000   \n",
              "\n",
              "       Total (estimated) polio cases  \\\n",
              "count                    7610.000000   \n",
              "mean                     1355.919185   \n",
              "std                     14783.232040   \n",
              "min                         0.000000   \n",
              "25%                         0.000000   \n",
              "50%                         0.000000   \n",
              "75%                         7.000000   \n",
              "max                    460159.000000   \n",
              "\n",
              "       Reported cases of guinea worm disease in humans  \\\n",
              "count                                      8428.000000   \n",
              "mean                                       1187.936640   \n",
              "std                                       21048.742524   \n",
              "min                                           0.000000   \n",
              "25%                                           0.000000   \n",
              "50%                                           0.000000   \n",
              "75%                                           0.000000   \n",
              "max                                      892055.000000   \n",
              "\n",
              "       Number of new cases of rabies, in both sexes aged all ages  \\\n",
              "count                                        6780.000000            \n",
              "mean                                          491.806626            \n",
              "std                                          2285.029317            \n",
              "min                                             0.000055            \n",
              "25%                                             0.015428            \n",
              "50%                                             0.800959            \n",
              "75%                                            25.316913            \n",
              "max                                         24744.658000            \n",
              "\n",
              "       Number of new cases of malaria, in both sexes aged all ages  \\\n",
              "count                                       6.780000e+03             \n",
              "mean                                        5.605907e+06             \n",
              "std                                         2.808722e+07             \n",
              "min                                         0.000000e+00             \n",
              "25%                                         0.000000e+00             \n",
              "50%                                         1.802114e+01             \n",
              "75%                                         4.917453e+05             \n",
              "max                                         2.641380e+08             \n",
              "\n",
              "       Number of new cases of hiv/aids, in both sexes aged all ages  \\\n",
              "count                                       6.780000e+03              \n",
              "mean                                        6.169133e+04              \n",
              "std                                         2.834060e+05              \n",
              "min                                         0.000000e+00              \n",
              "25%                                         5.331173e+01              \n",
              "50%                                         7.202800e+02              \n",
              "75%                                         8.605731e+03              \n",
              "max                                         3.310627e+06              \n",
              "\n",
              "       Number of new cases of tuberculosis, in both sexes aged all ages  \\\n",
              "count                                       6.780000e+03                  \n",
              "mean                                        2.147789e+05                  \n",
              "std                                         9.009014e+05                  \n",
              "min                                         5.112979e-01                  \n",
              "25%                                         3.516338e+02                  \n",
              "50%                                         3.507928e+03                  \n",
              "75%                                         2.474404e+04                  \n",
              "max                                         8.957511e+06                  \n",
              "\n",
              "       Number of reported smallpox cases  Reported cholera cases  \n",
              "count                         104.000000            2.967000e+03  \n",
              "mean                       111413.211538            1.251451e+04  \n",
              "std                        140974.686958            5.987943e+04  \n",
              "min                             0.000000            0.000000e+00  \n",
              "25%                             0.000000            1.100000e+01  \n",
              "50%                         59677.500000            2.960000e+02  \n",
              "75%                        186363.750000            3.095500e+03  \n",
              "max                        632858.000000            1.227391e+06  "
            ],
            "text/html": [
              "\n",
              "  <div id=\"df-c555b18c-3042-4f0a-b4b1-9437fde1ddbb\" class=\"colab-df-container\">\n",
              "    <div>\n",
              "<style scoped>\n",
              "    .dataframe tbody tr th:only-of-type {\n",
              "        vertical-align: middle;\n",
              "    }\n",
              "\n",
              "    .dataframe tbody tr th {\n",
              "        vertical-align: top;\n",
              "    }\n",
              "\n",
              "    .dataframe thead th {\n",
              "        text-align: right;\n",
              "    }\n",
              "</style>\n",
              "<table border=\"1\" class=\"dataframe\">\n",
              "  <thead>\n",
              "    <tr style=\"text-align: right;\">\n",
              "      <th></th>\n",
              "      <th>Year</th>\n",
              "      <th>Indicator:Number of cases of yaws reported</th>\n",
              "      <th>Total (estimated) polio cases</th>\n",
              "      <th>Reported cases of guinea worm disease in humans</th>\n",
              "      <th>Number of new cases of rabies, in both sexes aged all ages</th>\n",
              "      <th>Number of new cases of malaria, in both sexes aged all ages</th>\n",
              "      <th>Number of new cases of hiv/aids, in both sexes aged all ages</th>\n",
              "      <th>Number of new cases of tuberculosis, in both sexes aged all ages</th>\n",
              "      <th>Number of reported smallpox cases</th>\n",
              "      <th>Reported cholera cases</th>\n",
              "    </tr>\n",
              "  </thead>\n",
              "  <tbody>\n",
              "    <tr>\n",
              "      <th>count</th>\n",
              "      <td>10521.000000</td>\n",
              "      <td>74.000000</td>\n",
              "      <td>7610.000000</td>\n",
              "      <td>8428.000000</td>\n",
              "      <td>6780.000000</td>\n",
              "      <td>6.780000e+03</td>\n",
              "      <td>6.780000e+03</td>\n",
              "      <td>6.780000e+03</td>\n",
              "      <td>104.000000</td>\n",
              "      <td>2.967000e+03</td>\n",
              "    </tr>\n",
              "    <tr>\n",
              "      <th>mean</th>\n",
              "      <td>1999.301017</td>\n",
              "      <td>14088.108108</td>\n",
              "      <td>1355.919185</td>\n",
              "      <td>1187.936640</td>\n",
              "      <td>491.806626</td>\n",
              "      <td>5.605907e+06</td>\n",
              "      <td>6.169133e+04</td>\n",
              "      <td>2.147789e+05</td>\n",
              "      <td>111413.211538</td>\n",
              "      <td>1.251451e+04</td>\n",
              "    </tr>\n",
              "    <tr>\n",
              "      <th>std</th>\n",
              "      <td>14.432364</td>\n",
              "      <td>19382.272796</td>\n",
              "      <td>14783.232040</td>\n",
              "      <td>21048.742524</td>\n",
              "      <td>2285.029317</td>\n",
              "      <td>2.808722e+07</td>\n",
              "      <td>2.834060e+05</td>\n",
              "      <td>9.009014e+05</td>\n",
              "      <td>140974.686958</td>\n",
              "      <td>5.987943e+04</td>\n",
              "    </tr>\n",
              "    <tr>\n",
              "      <th>min</th>\n",
              "      <td>1920.000000</td>\n",
              "      <td>7.000000</td>\n",
              "      <td>0.000000</td>\n",
              "      <td>0.000000</td>\n",
              "      <td>0.000055</td>\n",
              "      <td>0.000000e+00</td>\n",
              "      <td>0.000000e+00</td>\n",
              "      <td>5.112979e-01</td>\n",
              "      <td>0.000000</td>\n",
              "      <td>0.000000e+00</td>\n",
              "    </tr>\n",
              "    <tr>\n",
              "      <th>25%</th>\n",
              "      <td>1989.000000</td>\n",
              "      <td>685.000000</td>\n",
              "      <td>0.000000</td>\n",
              "      <td>0.000000</td>\n",
              "      <td>0.015428</td>\n",
              "      <td>0.000000e+00</td>\n",
              "      <td>5.331173e+01</td>\n",
              "      <td>3.516338e+02</td>\n",
              "      <td>0.000000</td>\n",
              "      <td>1.100000e+01</td>\n",
              "    </tr>\n",
              "    <tr>\n",
              "      <th>50%</th>\n",
              "      <td>2000.000000</td>\n",
              "      <td>3361.000000</td>\n",
              "      <td>0.000000</td>\n",
              "      <td>0.000000</td>\n",
              "      <td>0.800959</td>\n",
              "      <td>1.802114e+01</td>\n",
              "      <td>7.202800e+02</td>\n",
              "      <td>3.507928e+03</td>\n",
              "      <td>59677.500000</td>\n",
              "      <td>2.960000e+02</td>\n",
              "    </tr>\n",
              "    <tr>\n",
              "      <th>75%</th>\n",
              "      <td>2011.000000</td>\n",
              "      <td>20321.250000</td>\n",
              "      <td>7.000000</td>\n",
              "      <td>0.000000</td>\n",
              "      <td>25.316913</td>\n",
              "      <td>4.917453e+05</td>\n",
              "      <td>8.605731e+03</td>\n",
              "      <td>2.474404e+04</td>\n",
              "      <td>186363.750000</td>\n",
              "      <td>3.095500e+03</td>\n",
              "    </tr>\n",
              "    <tr>\n",
              "      <th>max</th>\n",
              "      <td>2023.000000</td>\n",
              "      <td>80226.000000</td>\n",
              "      <td>460159.000000</td>\n",
              "      <td>892055.000000</td>\n",
              "      <td>24744.658000</td>\n",
              "      <td>2.641380e+08</td>\n",
              "      <td>3.310627e+06</td>\n",
              "      <td>8.957511e+06</td>\n",
              "      <td>632858.000000</td>\n",
              "      <td>1.227391e+06</td>\n",
              "    </tr>\n",
              "  </tbody>\n",
              "</table>\n",
              "</div>\n",
              "    <div class=\"colab-df-buttons\">\n",
              "\n",
              "  <div class=\"colab-df-container\">\n",
              "    <button class=\"colab-df-convert\" onclick=\"convertToInteractive('df-c555b18c-3042-4f0a-b4b1-9437fde1ddbb')\"\n",
              "            title=\"Convert this dataframe to an interactive table.\"\n",
              "            style=\"display:none;\">\n",
              "\n",
              "  <svg xmlns=\"http://www.w3.org/2000/svg\" height=\"24px\" viewBox=\"0 -960 960 960\">\n",
              "    <path d=\"M120-120v-720h720v720H120Zm60-500h600v-160H180v160Zm220 220h160v-160H400v160Zm0 220h160v-160H400v160ZM180-400h160v-160H180v160Zm440 0h160v-160H620v160ZM180-180h160v-160H180v160Zm440 0h160v-160H620v160Z\"/>\n",
              "  </svg>\n",
              "    </button>\n",
              "\n",
              "  <style>\n",
              "    .colab-df-container {\n",
              "      display:flex;\n",
              "      gap: 12px;\n",
              "    }\n",
              "\n",
              "    .colab-df-convert {\n",
              "      background-color: #E8F0FE;\n",
              "      border: none;\n",
              "      border-radius: 50%;\n",
              "      cursor: pointer;\n",
              "      display: none;\n",
              "      fill: #1967D2;\n",
              "      height: 32px;\n",
              "      padding: 0 0 0 0;\n",
              "      width: 32px;\n",
              "    }\n",
              "\n",
              "    .colab-df-convert:hover {\n",
              "      background-color: #E2EBFA;\n",
              "      box-shadow: 0px 1px 2px rgba(60, 64, 67, 0.3), 0px 1px 3px 1px rgba(60, 64, 67, 0.15);\n",
              "      fill: #174EA6;\n",
              "    }\n",
              "\n",
              "    .colab-df-buttons div {\n",
              "      margin-bottom: 4px;\n",
              "    }\n",
              "\n",
              "    [theme=dark] .colab-df-convert {\n",
              "      background-color: #3B4455;\n",
              "      fill: #D2E3FC;\n",
              "    }\n",
              "\n",
              "    [theme=dark] .colab-df-convert:hover {\n",
              "      background-color: #434B5C;\n",
              "      box-shadow: 0px 1px 3px 1px rgba(0, 0, 0, 0.15);\n",
              "      filter: drop-shadow(0px 1px 2px rgba(0, 0, 0, 0.3));\n",
              "      fill: #FFFFFF;\n",
              "    }\n",
              "  </style>\n",
              "\n",
              "    <script>\n",
              "      const buttonEl =\n",
              "        document.querySelector('#df-c555b18c-3042-4f0a-b4b1-9437fde1ddbb button.colab-df-convert');\n",
              "      buttonEl.style.display =\n",
              "        google.colab.kernel.accessAllowed ? 'block' : 'none';\n",
              "\n",
              "      async function convertToInteractive(key) {\n",
              "        const element = document.querySelector('#df-c555b18c-3042-4f0a-b4b1-9437fde1ddbb');\n",
              "        const dataTable =\n",
              "          await google.colab.kernel.invokeFunction('convertToInteractive',\n",
              "                                                    [key], {});\n",
              "        if (!dataTable) return;\n",
              "\n",
              "        const docLinkHtml = 'Like what you see? Visit the ' +\n",
              "          '<a target=\"_blank\" href=https://colab.research.google.com/notebooks/data_table.ipynb>data table notebook</a>'\n",
              "          + ' to learn more about interactive tables.';\n",
              "        element.innerHTML = '';\n",
              "        dataTable['output_type'] = 'display_data';\n",
              "        await google.colab.output.renderOutput(dataTable, element);\n",
              "        const docLink = document.createElement('div');\n",
              "        docLink.innerHTML = docLinkHtml;\n",
              "        element.appendChild(docLink);\n",
              "      }\n",
              "    </script>\n",
              "  </div>\n",
              "\n",
              "\n",
              "    <div id=\"df-4f128185-17e0-4306-b08c-4e820eda176f\">\n",
              "      <button class=\"colab-df-quickchart\" onclick=\"quickchart('df-4f128185-17e0-4306-b08c-4e820eda176f')\"\n",
              "                title=\"Suggest charts\"\n",
              "                style=\"display:none;\">\n",
              "\n",
              "<svg xmlns=\"http://www.w3.org/2000/svg\" height=\"24px\"viewBox=\"0 0 24 24\"\n",
              "     width=\"24px\">\n",
              "    <g>\n",
              "        <path d=\"M19 3H5c-1.1 0-2 .9-2 2v14c0 1.1.9 2 2 2h14c1.1 0 2-.9 2-2V5c0-1.1-.9-2-2-2zM9 17H7v-7h2v7zm4 0h-2V7h2v10zm4 0h-2v-4h2v4z\"/>\n",
              "    </g>\n",
              "</svg>\n",
              "      </button>\n",
              "\n",
              "<style>\n",
              "  .colab-df-quickchart {\n",
              "      --bg-color: #E8F0FE;\n",
              "      --fill-color: #1967D2;\n",
              "      --hover-bg-color: #E2EBFA;\n",
              "      --hover-fill-color: #174EA6;\n",
              "      --disabled-fill-color: #AAA;\n",
              "      --disabled-bg-color: #DDD;\n",
              "  }\n",
              "\n",
              "  [theme=dark] .colab-df-quickchart {\n",
              "      --bg-color: #3B4455;\n",
              "      --fill-color: #D2E3FC;\n",
              "      --hover-bg-color: #434B5C;\n",
              "      --hover-fill-color: #FFFFFF;\n",
              "      --disabled-bg-color: #3B4455;\n",
              "      --disabled-fill-color: #666;\n",
              "  }\n",
              "\n",
              "  .colab-df-quickchart {\n",
              "    background-color: var(--bg-color);\n",
              "    border: none;\n",
              "    border-radius: 50%;\n",
              "    cursor: pointer;\n",
              "    display: none;\n",
              "    fill: var(--fill-color);\n",
              "    height: 32px;\n",
              "    padding: 0;\n",
              "    width: 32px;\n",
              "  }\n",
              "\n",
              "  .colab-df-quickchart:hover {\n",
              "    background-color: var(--hover-bg-color);\n",
              "    box-shadow: 0 1px 2px rgba(60, 64, 67, 0.3), 0 1px 3px 1px rgba(60, 64, 67, 0.15);\n",
              "    fill: var(--button-hover-fill-color);\n",
              "  }\n",
              "\n",
              "  .colab-df-quickchart-complete:disabled,\n",
              "  .colab-df-quickchart-complete:disabled:hover {\n",
              "    background-color: var(--disabled-bg-color);\n",
              "    fill: var(--disabled-fill-color);\n",
              "    box-shadow: none;\n",
              "  }\n",
              "\n",
              "  .colab-df-spinner {\n",
              "    border: 2px solid var(--fill-color);\n",
              "    border-color: transparent;\n",
              "    border-bottom-color: var(--fill-color);\n",
              "    animation:\n",
              "      spin 1s steps(1) infinite;\n",
              "  }\n",
              "\n",
              "  @keyframes spin {\n",
              "    0% {\n",
              "      border-color: transparent;\n",
              "      border-bottom-color: var(--fill-color);\n",
              "      border-left-color: var(--fill-color);\n",
              "    }\n",
              "    20% {\n",
              "      border-color: transparent;\n",
              "      border-left-color: var(--fill-color);\n",
              "      border-top-color: var(--fill-color);\n",
              "    }\n",
              "    30% {\n",
              "      border-color: transparent;\n",
              "      border-left-color: var(--fill-color);\n",
              "      border-top-color: var(--fill-color);\n",
              "      border-right-color: var(--fill-color);\n",
              "    }\n",
              "    40% {\n",
              "      border-color: transparent;\n",
              "      border-right-color: var(--fill-color);\n",
              "      border-top-color: var(--fill-color);\n",
              "    }\n",
              "    60% {\n",
              "      border-color: transparent;\n",
              "      border-right-color: var(--fill-color);\n",
              "    }\n",
              "    80% {\n",
              "      border-color: transparent;\n",
              "      border-right-color: var(--fill-color);\n",
              "      border-bottom-color: var(--fill-color);\n",
              "    }\n",
              "    90% {\n",
              "      border-color: transparent;\n",
              "      border-bottom-color: var(--fill-color);\n",
              "    }\n",
              "  }\n",
              "</style>\n",
              "\n",
              "      <script>\n",
              "        async function quickchart(key) {\n",
              "          const quickchartButtonEl =\n",
              "            document.querySelector('#' + key + ' button');\n",
              "          quickchartButtonEl.disabled = true;  // To prevent multiple clicks.\n",
              "          quickchartButtonEl.classList.add('colab-df-spinner');\n",
              "          try {\n",
              "            const charts = await google.colab.kernel.invokeFunction(\n",
              "                'suggestCharts', [key], {});\n",
              "          } catch (error) {\n",
              "            console.error('Error during call to suggestCharts:', error);\n",
              "          }\n",
              "          quickchartButtonEl.classList.remove('colab-df-spinner');\n",
              "          quickchartButtonEl.classList.add('colab-df-quickchart-complete');\n",
              "        }\n",
              "        (() => {\n",
              "          let quickchartButtonEl =\n",
              "            document.querySelector('#df-4f128185-17e0-4306-b08c-4e820eda176f button');\n",
              "          quickchartButtonEl.style.display =\n",
              "            google.colab.kernel.accessAllowed ? 'block' : 'none';\n",
              "        })();\n",
              "      </script>\n",
              "    </div>\n",
              "\n",
              "    </div>\n",
              "  </div>\n"
            ],
            "application/vnd.google.colaboratory.intrinsic+json": {
              "type": "dataframe",
              "summary": "{\n  \"name\": \"df\",\n  \"rows\": 8,\n  \"fields\": [\n    {\n      \"column\": \"Year\",\n      \"properties\": {\n        \"dtype\": \"number\",\n        \"std\": 3191.774307436561,\n        \"min\": 14.43236381856553,\n        \"max\": 10521.0,\n        \"num_unique_values\": 8,\n        \"samples\": [\n          1999.301017013592,\n          2000.0,\n          10521.0\n        ],\n        \"semantic_type\": \"\",\n        \"description\": \"\"\n      }\n    },\n    {\n      \"column\": \"Indicator:Number of cases of yaws reported\",\n      \"properties\": {\n        \"dtype\": \"number\",\n        \"std\": 26858.332722465413,\n        \"min\": 7.0,\n        \"max\": 80226.0,\n        \"num_unique_values\": 8,\n        \"samples\": [\n          14088.108108108108,\n          3361.0,\n          74.0\n        ],\n        \"semantic_type\": \"\",\n        \"description\": \"\"\n      }\n    },\n    {\n      \"column\": \"Total (estimated) polio cases\",\n      \"properties\": {\n        \"dtype\": \"number\",\n        \"std\": 161578.3161275017,\n        \"min\": 0.0,\n        \"max\": 460159.0,\n        \"num_unique_values\": 6,\n        \"samples\": [\n          7610.0,\n          1355.919185282523,\n          460159.0\n        ],\n        \"semantic_type\": \"\",\n        \"description\": \"\"\n      }\n    },\n    {\n      \"column\": \"Reported cases of guinea worm disease in humans\",\n      \"properties\": {\n        \"dtype\": \"number\",\n        \"std\": 313927.0079344651,\n        \"min\": 0.0,\n        \"max\": 892055.0,\n        \"num_unique_values\": 5,\n        \"samples\": [\n          1187.9366397721878,\n          892055.0,\n          21048.742523946003\n        ],\n        \"semantic_type\": \"\",\n        \"description\": \"\"\n      }\n    },\n    {\n      \"column\": \"Number of new cases of rabies, in both sexes aged all ages\",\n      \"properties\": {\n        \"dtype\": \"number\",\n        \"std\": 8589.296698104521,\n        \"min\": 5.5092813e-05,\n        \"max\": 24744.658,\n        \"num_unique_values\": 8,\n        \"samples\": [\n          491.8066255770895,\n          0.8009587499999999,\n          6780.0\n        ],\n        \"semantic_type\": \"\",\n        \"description\": \"\"\n      }\n    },\n    {\n      \"column\": \"Number of new cases of malaria, in both sexes aged all ages\",\n      \"properties\": {\n        \"dtype\": \"number\",\n        \"std\": 92167852.86192468,\n        \"min\": 0.0,\n        \"max\": 264138050.0,\n        \"num_unique_values\": 7,\n        \"samples\": [\n          6780.0,\n          5605906.564340758,\n          491745.31499999994\n        ],\n        \"semantic_type\": \"\",\n        \"description\": \"\"\n      }\n    },\n    {\n      \"column\": \"Number of new cases of hiv/aids, in both sexes aged all ages\",\n      \"properties\": {\n        \"dtype\": \"number\",\n        \"std\": 1156296.6818300458,\n        \"min\": 0.0,\n        \"max\": 3310626.8,\n        \"num_unique_values\": 8,\n        \"samples\": [\n          61691.33278900718,\n          720.2799500000001,\n          6780.0\n        ],\n        \"semantic_type\": \"\",\n        \"description\": \"\"\n      }\n    },\n    {\n      \"column\": \"Number of new cases of tuberculosis, in both sexes aged all ages\",\n      \"properties\": {\n        \"dtype\": \"number\",\n        \"std\": 3124157.378385942,\n        \"min\": 0.51129794,\n        \"max\": 8957511.0,\n        \"num_unique_values\": 8,\n        \"samples\": [\n          214778.8610972911,\n          3507.9276,\n          6780.0\n        ],\n        \"semantic_type\": \"\",\n        \"description\": \"\"\n      }\n    },\n    {\n      \"column\": \"Number of reported smallpox cases\",\n      \"properties\": {\n        \"dtype\": \"number\",\n        \"std\": 210809.03172794456,\n        \"min\": 0.0,\n        \"max\": 632858.0,\n        \"num_unique_values\": 7,\n        \"samples\": [\n          104.0,\n          111413.21153846153,\n          186363.75\n        ],\n        \"semantic_type\": \"\",\n        \"description\": \"\"\n      }\n    },\n    {\n      \"column\": \"Reported cholera cases\",\n      \"properties\": {\n        \"dtype\": \"number\",\n        \"std\": 430447.337510849,\n        \"min\": 0.0,\n        \"max\": 1227391.0,\n        \"num_unique_values\": 8,\n        \"samples\": [\n          12514.508257499157,\n          296.0,\n          2967.0\n        ],\n        \"semantic_type\": \"\",\n        \"description\": \"\"\n      }\n    }\n  ]\n}"
            }
          },
          "metadata": {},
          "execution_count": 9
        }
      ]
    },
    {
      "cell_type": "code",
      "source": [
        "# checking the number of missing values\n",
        "print(df.isnull().sum())"
      ],
      "metadata": {
        "colab": {
          "base_uri": "https://localhost:8080/"
        },
        "id": "V281zzntvv8I",
        "outputId": "5d83e70a-c75e-4209-e76a-999bdccfa27b"
      },
      "execution_count": 10,
      "outputs": [
        {
          "output_type": "stream",
          "name": "stdout",
          "text": [
            "Entity                                                                  0\n",
            "Code                                                                 1128\n",
            "Year                                                                    0\n",
            "Indicator:Number of cases of yaws reported                          10447\n",
            "Total (estimated) polio cases                                        2911\n",
            "Reported cases of guinea worm disease in humans                      2093\n",
            "Number of new cases of rabies, in both sexes aged all ages           3741\n",
            "Number of new cases of malaria, in both sexes aged all ages          3741\n",
            "Number of new cases of hiv/aids, in both sexes aged all ages         3741\n",
            "Number of new cases of tuberculosis, in both sexes aged all ages     3741\n",
            "Number of reported smallpox cases                                   10417\n",
            "Reported cholera cases                                               7554\n",
            "dtype: int64\n"
          ]
        }
      ]
    },
    {
      "cell_type": "code",
      "source": [
        "df[\"Entity\"].unique()"
      ],
      "metadata": {
        "id": "b-imelWdwbM9",
        "colab": {
          "base_uri": "https://localhost:8080/"
        },
        "outputId": "74f3790f-884e-4b1a-8cdc-2a6bd4eb856e"
      },
      "execution_count": 11,
      "outputs": [
        {
          "output_type": "execute_result",
          "data": {
            "text/plain": [
              "array(['Afghanistan', 'Africa', 'African Region (WHO)', 'Albania',\n",
              "       'Algeria', 'American Samoa', 'Americas', 'Andorra', 'Angola',\n",
              "       'Antigua and Barbuda', 'Argentina', 'Armenia', 'Asia', 'Australia',\n",
              "       'Austria', 'Azerbaijan', 'Bahamas', 'Bahrain', 'Bangladesh',\n",
              "       'Barbados', 'Belarus', 'Belgium', 'Belize', 'Benin', 'Bermuda',\n",
              "       'Bhutan', 'Bolivia', 'Bosnia and Herzegovina', 'Botswana',\n",
              "       'Brazil', 'Brunei', 'Bulgaria', 'Burkina Faso', 'Burundi',\n",
              "       'Cambodia', 'Cameroon', 'Canada', 'Cape Verde',\n",
              "       'Central African Republic', 'Chad', 'Chile', 'China', 'Colombia',\n",
              "       'Comoros', 'Congo', 'Cook Islands', 'Costa Rica', \"Cote d'Ivoire\",\n",
              "       'Croatia', 'Cuba', 'Cyprus', 'Czechia',\n",
              "       'Democratic Republic of Congo', 'Denmark', 'Djibouti', 'Dominica',\n",
              "       'Dominican Republic', 'East Asia & Pacific (WB)', 'East Timor',\n",
              "       'Eastern Mediterranean', 'Eastern Mediterranean Region (WHO)',\n",
              "       'Ecuador', 'Egypt', 'El Salvador', 'England', 'Equatorial Guinea',\n",
              "       'Eritrea', 'Estonia', 'Eswatini', 'Ethiopia', 'Europe',\n",
              "       'Europe & Central Asia (WB)', 'European Region (WHO)', 'Fiji',\n",
              "       'Finland', 'France', 'G20', 'Gabon', 'Gambia', 'Georgia',\n",
              "       'Germany', 'Ghana', 'Greece', 'Greenland', 'Grenada', 'Guam',\n",
              "       'Guatemala', 'Guinea', 'Guinea-Bissau', 'Guyana', 'Haiti',\n",
              "       'High Income (WB)', 'Honduras', 'Hong Kong', 'Hungary', 'Iceland',\n",
              "       'India', 'Indonesia', 'Iran', 'Iraq', 'Ireland', 'Israel', 'Italy',\n",
              "       'Jamaica', 'Japan', 'Jordan', 'Kazakhstan', 'Kenya', 'Kiribati',\n",
              "       'Kuwait', 'Kyrgyzstan', 'Laos', 'Latin America & Caribbean (WB)',\n",
              "       'Latvia', 'Lebanon', 'Lesotho', 'Liberia', 'Libya', 'Lithuania',\n",
              "       'Low Income (WB)', 'Lower Middle Income (WB)', 'Luxembourg',\n",
              "       'Macao', 'Madagascar', 'Malawi', 'Malaysia', 'Maldives', 'Mali',\n",
              "       'Malta', 'Marshall Islands', 'Mauritania', 'Mauritius', 'Mexico',\n",
              "       'Micronesia (country)', 'Middle East & North Africa (WB)',\n",
              "       'Middle Income (WB)', 'Moldova', 'Monaco', 'Mongolia',\n",
              "       'Montenegro', 'Morocco', 'Mozambique', 'Myanmar', 'Namibia',\n",
              "       'Nauru', 'Nepal', 'Netherlands', 'New Zealand', 'Nicaragua',\n",
              "       'Niger', 'Nigeria', 'Niue', 'North America', 'North America (WB)',\n",
              "       'North Korea', 'North Macedonia', 'Northern Ireland',\n",
              "       'Northern Mariana Islands', 'Norway', 'OECD Countries', 'Oceania',\n",
              "       'Oman', 'Pakistan', 'Palau', 'Palestine', 'Panama',\n",
              "       'Papua New Guinea', 'Paraguay', 'Peru', 'Philippines', 'Poland',\n",
              "       'Portugal', 'Puerto Rico', 'Qatar', 'Region of the Americas (WHO)',\n",
              "       'Reunion', 'Romania', 'Russia', 'Rwanda', 'Saint Helena',\n",
              "       'Saint Kitts and Nevis', 'Saint Lucia',\n",
              "       'Saint Vincent and the Grenadines', 'Samoa', 'San Marino',\n",
              "       'Sao Tome and Principe', 'Saudi Arabia', 'Scotland', 'Senegal',\n",
              "       'Serbia', 'Serbia and Montenegro',\n",
              "       'Serbia and Montenegro (former)', 'Seychelles', 'Sierra Leone',\n",
              "       'Singapore', 'Slovakia', 'Slovenia', 'Solomon Islands', 'Somalia',\n",
              "       'South Africa', 'South America', 'South Asia (WB)', 'South Korea',\n",
              "       'South Sudan', 'South-East Asia', 'South-East Asia Region (WHO)',\n",
              "       'Spain', 'Sri Lanka', 'Sub-Saharan Africa (WB)', 'Sudan',\n",
              "       'Suriname', 'Sweden', 'Switzerland', 'Syria', 'Taiwan',\n",
              "       'Tajikistan', 'Tanzania', 'Thailand', 'Togo', 'Tokelau', 'Tonga',\n",
              "       'Trinidad and Tobago', 'Tunisia', 'Turkey', 'Turkmenistan',\n",
              "       'Tuvalu', 'Uganda', 'Ukraine', 'United Arab Emirates',\n",
              "       'United Kingdom', 'United States', 'United States Virgin Islands',\n",
              "       'Uruguay', 'Uzbekistan', 'Vanuatu', 'Venezuela', 'Vietnam',\n",
              "       'Wales', 'Western Pacific', 'Western Pacific Region (WHO)',\n",
              "       'World', 'Yemen', 'Yugoslavia', 'Zambia', 'Zimbabwe'], dtype=object)"
            ]
          },
          "metadata": {},
          "execution_count": 11
        }
      ]
    },
    {
      "cell_type": "code",
      "metadata": {
        "colab": {
          "base_uri": "https://localhost:8080/",
          "height": 501
        },
        "id": "23c92b9e",
        "outputId": "6956f325-aeb5-41a2-f3be-463032ef450d"
      },
      "source": [
        "# Count unique values in 'Entity' column\n",
        "entity_counts = df['Entity'].value_counts()\n",
        "\n",
        "# Display the counts\n",
        "print(\"Unique values and their counts in 'Entity' column:\")\n",
        "display(entity_counts)"
      ],
      "execution_count": 12,
      "outputs": [
        {
          "output_type": "stream",
          "name": "stdout",
          "text": [
            "Unique values and their counts in 'Entity' column:\n"
          ]
        },
        {
          "output_type": "display_data",
          "data": {
            "text/plain": [
              "Entity\n",
              "World                             104\n",
              "Bangladesh                         73\n",
              "India                              73\n",
              "Asia                               73\n",
              "Myanmar                            72\n",
              "                                 ... \n",
              "Reunion                            14\n",
              "Saint Helena                       14\n",
              "Serbia and Montenegro (former)      4\n",
              "Serbia and Montenegro               3\n",
              "Yugoslavia                          2\n",
              "Name: count, Length: 245, dtype: int64"
            ],
            "text/html": [
              "<div>\n",
              "<style scoped>\n",
              "    .dataframe tbody tr th:only-of-type {\n",
              "        vertical-align: middle;\n",
              "    }\n",
              "\n",
              "    .dataframe tbody tr th {\n",
              "        vertical-align: top;\n",
              "    }\n",
              "\n",
              "    .dataframe thead th {\n",
              "        text-align: right;\n",
              "    }\n",
              "</style>\n",
              "<table border=\"1\" class=\"dataframe\">\n",
              "  <thead>\n",
              "    <tr style=\"text-align: right;\">\n",
              "      <th></th>\n",
              "      <th>count</th>\n",
              "    </tr>\n",
              "    <tr>\n",
              "      <th>Entity</th>\n",
              "      <th></th>\n",
              "    </tr>\n",
              "  </thead>\n",
              "  <tbody>\n",
              "    <tr>\n",
              "      <th>World</th>\n",
              "      <td>104</td>\n",
              "    </tr>\n",
              "    <tr>\n",
              "      <th>Bangladesh</th>\n",
              "      <td>73</td>\n",
              "    </tr>\n",
              "    <tr>\n",
              "      <th>India</th>\n",
              "      <td>73</td>\n",
              "    </tr>\n",
              "    <tr>\n",
              "      <th>Asia</th>\n",
              "      <td>73</td>\n",
              "    </tr>\n",
              "    <tr>\n",
              "      <th>Myanmar</th>\n",
              "      <td>72</td>\n",
              "    </tr>\n",
              "    <tr>\n",
              "      <th>...</th>\n",
              "      <td>...</td>\n",
              "    </tr>\n",
              "    <tr>\n",
              "      <th>Reunion</th>\n",
              "      <td>14</td>\n",
              "    </tr>\n",
              "    <tr>\n",
              "      <th>Saint Helena</th>\n",
              "      <td>14</td>\n",
              "    </tr>\n",
              "    <tr>\n",
              "      <th>Serbia and Montenegro (former)</th>\n",
              "      <td>4</td>\n",
              "    </tr>\n",
              "    <tr>\n",
              "      <th>Serbia and Montenegro</th>\n",
              "      <td>3</td>\n",
              "    </tr>\n",
              "    <tr>\n",
              "      <th>Yugoslavia</th>\n",
              "      <td>2</td>\n",
              "    </tr>\n",
              "  </tbody>\n",
              "</table>\n",
              "<p>245 rows × 1 columns</p>\n",
              "</div><br><label><b>dtype:</b> int64</label>"
            ]
          },
          "metadata": {}
        }
      ]
    },
    {
      "cell_type": "code",
      "source": [
        "df.columns"
      ],
      "metadata": {
        "colab": {
          "base_uri": "https://localhost:8080/"
        },
        "id": "0l9geRwlHBmx",
        "outputId": "f0b9918b-01ba-445e-fcb0-cbcf302b8e43"
      },
      "execution_count": 13,
      "outputs": [
        {
          "output_type": "execute_result",
          "data": {
            "text/plain": [
              "Index(['Entity', 'Code', 'Year', 'Indicator:Number of cases of yaws reported',\n",
              "       'Total (estimated) polio cases',\n",
              "       'Reported cases of guinea worm disease in humans',\n",
              "       'Number of new cases of rabies, in both sexes aged all ages',\n",
              "       'Number of new cases of malaria, in both sexes aged all ages',\n",
              "       'Number of new cases of hiv/aids, in both sexes aged all ages',\n",
              "       'Number of new cases of tuberculosis, in both sexes aged all ages',\n",
              "       'Number of reported smallpox cases', 'Reported cholera cases'],\n",
              "      dtype='object')"
            ]
          },
          "metadata": {},
          "execution_count": 13
        }
      ]
    },
    {
      "cell_type": "code",
      "source": [
        "sns.countplot(x='Year',data=df)\n",
        "plt.title('Year')\n",
        "plt.show()"
      ],
      "metadata": {
        "colab": {
          "base_uri": "https://localhost:8080/",
          "height": 472
        },
        "id": "V5kdiEtqGo2_",
        "outputId": "faa3bb26-b349-4dc1-9328-ec37df3957cd"
      },
      "execution_count": 14,
      "outputs": [
        {
          "output_type": "display_data",
          "data": {
            "text/plain": [
              "<Figure size 640x480 with 1 Axes>"
            ],
            "image/png": "[encoded data removed]"
          },
          "metadata": {}
        }
      ]
    },
    {
      "cell_type": "code",
      "source": [
        "sns.countplot(x='Number of new cases of rabies, in both sexes aged all ages',data=df)\n",
        "plt.title('Number of new cases of rabies, in both sexes aged all ages')\n",
        "plt.show()"
      ],
      "metadata": {
        "colab": {
          "base_uri": "https://localhost:8080/",
          "height": 472
        },
        "id": "T9tQYrjDHj58",
        "outputId": "55c47c0d-da1b-4c39-fe50-20a5b91119e6"
      },
      "execution_count": 15,
      "outputs": [
        {
          "output_type": "display_data",
          "data": {
            "text/plain": [
              "<Figure size 640x480 with 1 Axes>"
            ],
            "image/png": "[encoded data removed]"
          },
          "metadata": {}
        }
      ]
    },
    {
      "cell_type": "code",
      "source": [
        "sns.countplot(x= 'Number of new cases of rabies, in both sexes aged all ages',data=df)\n",
        "plt.title( 'Number of new cases of rabies, in both sexes aged all ages',)\n",
        "plt.show()"
      ],
      "metadata": {
        "colab": {
          "base_uri": "https://localhost:8080/",
          "height": 472
        },
        "id": "AeqB2VA9H0-C",
        "outputId": "e42bcb52-0be9-4ca1-c9fc-8fb5104933e0"
      },
      "execution_count": 16,
      "outputs": [
        {
          "output_type": "display_data",
          "data": {
            "text/plain": [
              "<Figure size 640x480 with 1 Axes>"
            ],
            "image/png": "[encoded data removed]"
          },
          "metadata": {}
        }
      ]
    },
    {
      "cell_type": "code",
      "source": [
        "num_cols = ['Entity', 'Reported cases of guinea worm disease in humans']\n",
        "fig, axes = plt.subplots(1, 2, figsize=(5, 3))\n",
        "for ax, col in zip(axes, num_cols):\n",
        "    sns.histplot(data=col, kde=True, ax=ax)\n",
        "    ax.set_title(col)\n",
        "\n",
        "plt.show()"
      ],
      "metadata": {
        "colab": {
          "base_uri": "https://localhost:8080/",
          "height": 314
        },
        "id": "lqdYEmxgVSU2",
        "outputId": "954ee0ef-b52d-4cd9-a229-419611fd4039"
      },
      "execution_count": 17,
      "outputs": [
        {
          "output_type": "display_data",
          "data": {
            "text/plain": [
              "<Figure size 500x300 with 2 Axes>"
            ],
            "image/png": "[encoded data removed]"
          },
          "metadata": {}
        }
      ]
    },
    {
      "cell_type": "code",
      "source": [
        "# Bivariate Analysis\n",
        "fig, axes = plt.subplots(1, 2, figsize=(10, 5))\n",
        "sns.boxplot(x='Entity', y='Number of new cases of rabies, in both sexes aged all ages', data=df, ax=axes[0]).set_title('Entity vs Rabies')\n",
        "sns.boxplot(x='Entity', y='Number of new cases of malaria, in both sexes aged all ages', data=df, ax=axes[1]).set_title('Entity vs Rabies')\n",
        "plt.tight_layout()\n",
        "plt.show()"
      ],
      "metadata": {
        "colab": {
          "base_uri": "https://localhost:8080/",
          "height": 507
        },
        "id": "OMvHnsP6jWPM",
        "outputId": "4fb5ddd2-7e4d-473d-bcf8-40d84e0e6b9e"
      },
      "execution_count": 18,
      "outputs": [
        {
          "output_type": "display_data",
          "data": {
            "text/plain": [
              "<Figure size 1000x500 with 2 Axes>"
            ],
            "image/png": "[encoded data removed]"
          },
          "metadata": {}
        }
      ]
    },
    {
      "cell_type": "code",
      "source": [
        "df.isnull().sum()\n"
      ],
      "metadata": {
        "colab": {
          "base_uri": "https://localhost:8080/",
          "height": 455
        },
        "id": "XPXUTMyLBG3J",
        "outputId": "314fb068-1d31-48d9-89cf-e823fb9e68f2"
      },
      "execution_count": 19,
      "outputs": [
        {
          "output_type": "execute_result",
          "data": {
            "text/plain": [
              "Entity                                                                  0\n",
              "Code                                                                 1128\n",
              "Year                                                                    0\n",
              "Indicator:Number of cases of yaws reported                          10447\n",
              "Total (estimated) polio cases                                        2911\n",
              "Reported cases of guinea worm disease in humans                      2093\n",
              "Number of new cases of rabies, in both sexes aged all ages           3741\n",
              "Number of new cases of malaria, in both sexes aged all ages          3741\n",
              "Number of new cases of hiv/aids, in both sexes aged all ages         3741\n",
              "Number of new cases of tuberculosis, in both sexes aged all ages     3741\n",
              "Number of reported smallpox cases                                   10417\n",
              "Reported cholera cases                                               7554\n",
              "dtype: int64"
            ],
            "text/html": [
              "<div>\n",
              "<style scoped>\n",
              "    .dataframe tbody tr th:only-of-type {\n",
              "        vertical-align: middle;\n",
              "    }\n",
              "\n",
              "    .dataframe tbody tr th {\n",
              "        vertical-align: top;\n",
              "    }\n",
              "\n",
              "    .dataframe thead th {\n",
              "        text-align: right;\n",
              "    }\n",
              "</style>\n",
              "<table border=\"1\" class=\"dataframe\">\n",
              "  <thead>\n",
              "    <tr style=\"text-align: right;\">\n",
              "      <th></th>\n",
              "      <th>0</th>\n",
              "    </tr>\n",
              "  </thead>\n",
              "  <tbody>\n",
              "    <tr>\n",
              "      <th>Entity</th>\n",
              "      <td>0</td>\n",
              "    </tr>\n",
              "    <tr>\n",
              "      <th>Code</th>\n",
              "      <td>1128</td>\n",
              "    </tr>\n",
              "    <tr>\n",
              "      <th>Year</th>\n",
              "      <td>0</td>\n",
              "    </tr>\n",
              "    <tr>\n",
              "      <th>Indicator:Number of cases of yaws reported</th>\n",
              "      <td>10447</td>\n",
              "    </tr>\n",
              "    <tr>\n",
              "      <th>Total (estimated) polio cases</th>\n",
              "      <td>2911</td>\n",
              "    </tr>\n",
              "    <tr>\n",
              "      <th>Reported cases of guinea worm disease in humans</th>\n",
              "      <td>2093</td>\n",
              "    </tr>\n",
              "    <tr>\n",
              "      <th>Number of new cases of rabies, in both sexes aged all ages</th>\n",
              "      <td>3741</td>\n",
              "    </tr>\n",
              "    <tr>\n",
              "      <th>Number of new cases of malaria, in both sexes aged all ages</th>\n",
              "      <td>3741</td>\n",
              "    </tr>\n",
              "    <tr>\n",
              "      <th>Number of new cases of hiv/aids, in both sexes aged all ages</th>\n",
              "      <td>3741</td>\n",
              "    </tr>\n",
              "    <tr>\n",
              "      <th>Number of new cases of tuberculosis, in both sexes aged all ages</th>\n",
              "      <td>3741</td>\n",
              "    </tr>\n",
              "    <tr>\n",
              "      <th>Number of reported smallpox cases</th>\n",
              "      <td>10417</td>\n",
              "    </tr>\n",
              "    <tr>\n",
              "      <th>Reported cholera cases</th>\n",
              "      <td>7554</td>\n",
              "    </tr>\n",
              "  </tbody>\n",
              "</table>\n",
              "</div><br><label><b>dtype:</b> int64</label>"
            ]
          },
          "metadata": {},
          "execution_count": 19
        }
      ]
    },
    {
      "cell_type": "code",
      "source": [
        "# removing the colums which are spoiling the data\n",
        "df = df.drop(columns = 'Code')\n",
        "df = df.drop(columns = 'Number of reported smallpox cases')\n",
        "df = df.drop(columns = 'Reported cholera cases')\n",
        "df = df.drop(columns = 'Indicator:Number of cases of yaws reported')"
      ],
      "metadata": {
        "id": "xRVRC0KrS3KX"
      },
      "execution_count": 20,
      "outputs": []
    },
    {
      "cell_type": "code",
      "metadata": {
        "colab": {
          "base_uri": "https://localhost:8080/",
          "height": 725
        },
        "id": "051daf25",
        "outputId": "306f0def-bd65-4589-964d-67ba366741df"
      },
      "source": [
        "# Make a copy of the dataframe to demonstrate different imputation methods without altering the original\n",
        "df_imputed = df.copy()\n",
        "\n",
        "# Mean imputation for 'Total (estimated) polio cases' (assuming it's appropriate for this column)\n",
        "# Check the distribution of the column first to confirm if mean is suitable\n",
        "# display(df_imputed['Total (estimated) polio cases'].hist())\n",
        "mean_polio = df_imputed['Total (estimated) polio cases'].mean()\n",
        "df_imputed['Total (estimated) polio cases'].fillna(mean_polio, inplace=True)\n",
        "\n",
        "# Median imputation for 'Reported cases of guinea worm disease in humans' (assuming it's appropriate)\n",
        "# Check the distribution of the column first to confirm if median is suitable\n",
        "# display(df_imputed['Reported cases of guinea worm disease in humans'].hist())\n",
        "median_guinea = df_imputed['Reported cases of guinea worm disease in humans'].median()\n",
        "df_imputed['Reported cases of guinea worm disease in humans'].fillna(median_guinea, inplace=True)\n",
        "\n",
        "# Mode imputation for 'Entity' (assuming it's appropriate for this categorical column)\n",
        "# display(df_imputed['Entity'].value_counts())\n",
        "mode_entity = df_imputed['Entity'].mode()[0] # .mode() can return multiple values if tied, so we take the first one\n",
        "# df_imputed['Entity'].fillna(mode_entity, inplace=True) # Entity has no missing values\n",
        "\n",
        "# Impute remaining numerical columns with the mean\n",
        "numerical_cols_to_impute = [\n",
        "    'Number of new cases of rabies, in both sexes aged all ages',\n",
        "    'Number of new cases of malaria, in both sexes aged all ages',\n",
        "    'Number of new cases of hiv/aids, in both sexes aged all ages',\n",
        "    'Number of new cases of tuberculosis, in both sexes aged all ages'\n",
        "]\n",
        "\n",
        "for col in numerical_cols_to_impute:\n",
        "    mean_col = df_imputed[col].mean()\n",
        "    df_imputed[col].fillna(mean_col, inplace=True)\n",
        "\n",
        "# Display the null counts after imputation to see the effect\n",
        "print(\"Null counts after imputation:\")\n",
        "display(df_imputed.isnull().sum())"
      ],
      "execution_count": 21,
      "outputs": [
        {
          "output_type": "stream",
          "name": "stdout",
          "text": [
            "Null counts after imputation:\n"
          ]
        },
        {
          "output_type": "stream",
          "name": "stderr",
          "text": [
            "/tmp/ipython-input-535984508.py:8: FutureWarning: A value is trying to be set on a copy of a DataFrame or Series through chained assignment using an inplace method.\n",
            "The behavior will change in pandas 3.0. This inplace method will never work because the intermediate object on which we are setting values always behaves as a copy.\n",
            "\n",
            "For example, when doing 'df[col].method(value, inplace=True)', try using 'df.method({col: value}, inplace=True)' or df[col] = df[col].method(value) instead, to perform the operation inplace on the original object.\n",
            "\n",
            "\n",
            "  df_imputed['Total (estimated) polio cases'].fillna(mean_polio, inplace=True)\n",
            "/tmp/ipython-input-535984508.py:14: FutureWarning: A value is trying to be set on a copy of a DataFrame or Series through chained assignment using an inplace method.\n",
            "The behavior will change in pandas 3.0. This inplace method will never work because the intermediate object on which we are setting values always behaves as a copy.\n",
            "\n",
            "For example, when doing 'df[col].method(value, inplace=True)', try using 'df.method({col: value}, inplace=True)' or df[col] = df[col].method(value) instead, to perform the operation inplace on the original object.\n",
            "\n",
            "\n",
            "  df_imputed['Reported cases of guinea worm disease in humans'].fillna(median_guinea, inplace=True)\n",
            "/tmp/ipython-input-535984508.py:31: FutureWarning: A value is trying to be set on a copy of a DataFrame or Series through chained assignment using an inplace method.\n",
            "The behavior will change in pandas 3.0. This inplace method will never work because the intermediate object on which we are setting values always behaves as a copy.\n",
            "\n",
            "For example, when doing 'df[col].method(value, inplace=True)', try using 'df.method({col: value}, inplace=True)' or df[col] = df[col].method(value) instead, to perform the operation inplace on the original object.\n",
            "\n",
            "\n",
            "  df_imputed[col].fillna(mean_col, inplace=True)\n"
          ]
        },
        {
          "output_type": "display_data",
          "data": {
            "text/plain": [
              "Entity                                                              0\n",
              "Year                                                                0\n",
              "Total (estimated) polio cases                                       0\n",
              "Reported cases of guinea worm disease in humans                     0\n",
              "Number of new cases of rabies, in both sexes aged all ages          0\n",
              "Number of new cases of malaria, in both sexes aged all ages         0\n",
              "Number of new cases of hiv/aids, in both sexes aged all ages        0\n",
              "Number of new cases of tuberculosis, in both sexes aged all ages    0\n",
              "dtype: int64"
            ],
            "text/html": [
              "<div>\n",
              "<style scoped>\n",
              "    .dataframe tbody tr th:only-of-type {\n",
              "        vertical-align: middle;\n",
              "    }\n",
              "\n",
              "    .dataframe tbody tr th {\n",
              "        vertical-align: top;\n",
              "    }\n",
              "\n",
              "    .dataframe thead th {\n",
              "        text-align: right;\n",
              "    }\n",
              "</style>\n",
              "<table border=\"1\" class=\"dataframe\">\n",
              "  <thead>\n",
              "    <tr style=\"text-align: right;\">\n",
              "      <th></th>\n",
              "      <th>0</th>\n",
              "    </tr>\n",
              "  </thead>\n",
              "  <tbody>\n",
              "    <tr>\n",
              "      <th>Entity</th>\n",
              "      <td>0</td>\n",
              "    </tr>\n",
              "    <tr>\n",
              "      <th>Year</th>\n",
              "      <td>0</td>\n",
              "    </tr>\n",
              "    <tr>\n",
              "      <th>Total (estimated) polio cases</th>\n",
              "      <td>0</td>\n",
              "    </tr>\n",
              "    <tr>\n",
              "      <th>Reported cases of guinea worm disease in humans</th>\n",
              "      <td>0</td>\n",
              "    </tr>\n",
              "    <tr>\n",
              "      <th>Number of new cases of rabies, in both sexes aged all ages</th>\n",
              "      <td>0</td>\n",
              "    </tr>\n",
              "    <tr>\n",
              "      <th>Number of new cases of malaria, in both sexes aged all ages</th>\n",
              "      <td>0</td>\n",
              "    </tr>\n",
              "    <tr>\n",
              "      <th>Number of new cases of hiv/aids, in both sexes aged all ages</th>\n",
              "      <td>0</td>\n",
              "    </tr>\n",
              "    <tr>\n",
              "      <th>Number of new cases of tuberculosis, in both sexes aged all ages</th>\n",
              "      <td>0</td>\n",
              "    </tr>\n",
              "  </tbody>\n",
              "</table>\n",
              "</div><br><label><b>dtype:</b> int64</label>"
            ]
          },
          "metadata": {}
        }
      ]
    },
    {
      "cell_type": "code",
      "source": [
        "df = df_imputed"
      ],
      "metadata": {
        "id": "-h5COVWDWHsp"
      },
      "execution_count": 22,
      "outputs": []
    },
    {
      "cell_type": "code",
      "metadata": {
        "colab": {
          "base_uri": "https://localhost:8080/",
          "height": 255
        },
        "id": "a62dca5b",
        "outputId": "8adcc557-5277-4936-de15-35ab686191d3"
      },
      "source": [
        "# Initialize the StandardScaler\n",
        "scaler = StandardScaler()\n",
        "\n",
        "# Identify the numerical columns to scale (excluding 'Year' and 'Entity' as they are not numerical features for scaling)\n",
        "numerical_cols_to_scale = [\n",
        "    'Total (estimated) polio cases',\n",
        "    'Reported cases of guinea worm disease in humans',\n",
        "    'Number of new cases of rabies, in both sexes aged all ages',\n",
        "    'Number of new cases of malaria, in both sexes aged all ages',\n",
        "    'Number of new cases of hiv/aids, in both sexes aged all ages',\n",
        "    'Number of new cases of tuberculosis, in both sexes aged all ages'\n",
        "]\n",
        "\n",
        "# Apply the scaler to the selected numerical columns\n",
        "df_scaled = df_imputed.copy()\n",
        "df_scaled[numerical_cols_to_scale] = scaler.fit_transform(df_imputed[numerical_cols_to_scale])\n",
        "\n",
        "# Display the first few rows of the scaled DataFrame to see the effect\n",
        "print(\"DataFrame after applying StandardScaler:\")\n",
        "display(df_scaled.head())"
      ],
      "execution_count": 23,
      "outputs": [
        {
          "output_type": "stream",
          "name": "stdout",
          "text": [
            "DataFrame after applying StandardScaler:\n"
          ]
        },
        {
          "output_type": "display_data",
          "data": {
            "text/plain": [
              "        Entity  Year  Total (estimated) polio cases  \\\n",
              "0  Afghanistan  1980                       0.382125   \n",
              "1  Afghanistan  1981                       0.358183   \n",
              "2  Afghanistan  1982                       0.666089   \n",
              "3  Afghanistan  1983                       1.000722   \n",
              "4  Afghanistan  1984                       0.199497   \n",
              "\n",
              "   Reported cases of guinea worm disease in humans  \\\n",
              "0                                          -0.0505   \n",
              "1                                          -0.0505   \n",
              "2                                          -0.0505   \n",
              "3                                          -0.0505   \n",
              "4                                          -0.0505   \n",
              "\n",
              "   Number of new cases of rabies, in both sexes aged all ages  \\\n",
              "0                                       3.099089e-17            \n",
              "1                                       3.099089e-17            \n",
              "2                                       3.099089e-17            \n",
              "3                                       3.099089e-17            \n",
              "4                                       3.099089e-17            \n",
              "\n",
              "   Number of new cases of malaria, in both sexes aged all ages  \\\n",
              "0                                                0.0             \n",
              "1                                                0.0             \n",
              "2                                                0.0             \n",
              "3                                                0.0             \n",
              "4                                                0.0             \n",
              "\n",
              "   Number of new cases of hiv/aids, in both sexes aged all ages  \\\n",
              "0                                      -3.198356e-17              \n",
              "1                                      -3.198356e-17              \n",
              "2                                      -3.198356e-17              \n",
              "3                                      -3.198356e-17              \n",
              "4                                      -3.198356e-17              \n",
              "\n",
              "   Number of new cases of tuberculosis, in both sexes aged all ages  \n",
              "0                                      -4.024562e-17                 \n",
              "1                                      -4.024562e-17                 \n",
              "2                                      -4.024562e-17                 \n",
              "3                                      -4.024562e-17                 \n",
              "4                                      -4.024562e-17                 "
            ],
            "text/html": [
              "\n",
              "  <div id=\"df-e86a33d7-fae3-46cb-a54e-62e3a95d067f\" class=\"colab-df-container\">\n",
              "    <div>\n",
              "<style scoped>\n",
              "    .dataframe tbody tr th:only-of-type {\n",
              "        vertical-align: middle;\n",
              "    }\n",
              "\n",
              "    .dataframe tbody tr th {\n",
              "        vertical-align: top;\n",
              "    }\n",
              "\n",
              "    .dataframe thead th {\n",
              "        text-align: right;\n",
              "    }\n",
              "</style>\n",
              "<table border=\"1\" class=\"dataframe\">\n",
              "  <thead>\n",
              "    <tr style=\"text-align: right;\">\n",
              "      <th></th>\n",
              "      <th>Entity</th>\n",
              "      <th>Year</th>\n",
              "      <th>Total (estimated) polio cases</th>\n",
              "      <th>Reported cases of guinea worm disease in humans</th>\n",
              "      <th>Number of new cases of rabies, in both sexes aged all ages</th>\n",
              "      <th>Number of new cases of malaria, in both sexes aged all ages</th>\n",
              "      <th>Number of new cases of hiv/aids, in both sexes aged all ages</th>\n",
              "      <th>Number of new cases of tuberculosis, in both sexes aged all ages</th>\n",
              "    </tr>\n",
              "  </thead>\n",
              "  <tbody>\n",
              "    <tr>\n",
              "      <th>0</th>\n",
              "      <td>Afghanistan</td>\n",
              "      <td>1980</td>\n",
              "      <td>0.382125</td>\n",
              "      <td>-0.0505</td>\n",
              "      <td>3.099089e-17</td>\n",
              "      <td>0.0</td>\n",
              "      <td>-3.198356e-17</td>\n",
              "      <td>-4.024562e-17</td>\n",
              "    </tr>\n",
              "    <tr>\n",
              "      <th>1</th>\n",
              "      <td>Afghanistan</td>\n",
              "      <td>1981</td>\n",
              "      <td>0.358183</td>\n",
              "      <td>-0.0505</td>\n",
              "      <td>3.099089e-17</td>\n",
              "      <td>0.0</td>\n",
              "      <td>-3.198356e-17</td>\n",
              "      <td>-4.024562e-17</td>\n",
              "    </tr>\n",
              "    <tr>\n",
              "      <th>2</th>\n",
              "      <td>Afghanistan</td>\n",
              "      <td>1982</td>\n",
              "      <td>0.666089</td>\n",
              "      <td>-0.0505</td>\n",
              "      <td>3.099089e-17</td>\n",
              "      <td>0.0</td>\n",
              "      <td>-3.198356e-17</td>\n",
              "      <td>-4.024562e-17</td>\n",
              "    </tr>\n",
              "    <tr>\n",
              "      <th>3</th>\n",
              "      <td>Afghanistan</td>\n",
              "      <td>1983</td>\n",
              "      <td>1.000722</td>\n",
              "      <td>-0.0505</td>\n",
              "      <td>3.099089e-17</td>\n",
              "      <td>0.0</td>\n",
              "      <td>-3.198356e-17</td>\n",
              "      <td>-4.024562e-17</td>\n",
              "    </tr>\n",
              "    <tr>\n",
              "      <th>4</th>\n",
              "      <td>Afghanistan</td>\n",
              "      <td>1984</td>\n",
              "      <td>0.199497</td>\n",
              "      <td>-0.0505</td>\n",
              "      <td>3.099089e-17</td>\n",
              "      <td>0.0</td>\n",
              "      <td>-3.198356e-17</td>\n",
              "      <td>-4.024562e-17</td>\n",
              "    </tr>\n",
              "  </tbody>\n",
              "</table>\n",
              "</div>\n",
              "    <div class=\"colab-df-buttons\">\n",
              "\n",
              "  <div class=\"colab-df-container\">\n",
              "    <button class=\"colab-df-convert\" onclick=\"convertToInteractive('df-e86a33d7-fae3-46cb-a54e-62e3a95d067f')\"\n",
              "            title=\"Convert this dataframe to an interactive table.\"\n",
              "            style=\"display:none;\">\n",
              "\n",
              "  <svg xmlns=\"http://www.w3.org/2000/svg\" height=\"24px\" viewBox=\"0 -960 960 960\">\n",
              "    <path d=\"M120-120v-720h720v720H120Zm60-500h600v-160H180v160Zm220 220h160v-160H400v160Zm0 220h160v-160H400v160ZM180-400h160v-160H180v160Zm440 0h160v-160H620v160ZM180-180h160v-160H180v160Zm440 0h160v-160H620v160Z\"/>\n",
              "  </svg>\n",
              "    </button>\n",
              "\n",
              "  <style>\n",
              "    .colab-df-container {\n",
              "      display:flex;\n",
              "      gap: 12px;\n",
              "    }\n",
              "\n",
              "    .colab-df-convert {\n",
              "      background-color: #E8F0FE;\n",
              "      border: none;\n",
              "      border-radius: 50%;\n",
              "      cursor: pointer;\n",
              "      display: none;\n",
              "      fill: #1967D2;\n",
              "      height: 32px;\n",
              "      padding: 0 0 0 0;\n",
              "      width: 32px;\n",
              "    }\n",
              "\n",
              "    .colab-df-convert:hover {\n",
              "      background-color: #E2EBFA;\n",
              "      box-shadow: 0px 1px 2px rgba(60, 64, 67, 0.3), 0px 1px 3px 1px rgba(60, 64, 67, 0.15);\n",
              "      fill: #174EA6;\n",
              "    }\n",
              "\n",
              "    .colab-df-buttons div {\n",
              "      margin-bottom: 4px;\n",
              "    }\n",
              "\n",
              "    [theme=dark] .colab-df-convert {\n",
              "      background-color: #3B4455;\n",
              "      fill: #D2E3FC;\n",
              "    }\n",
              "\n",
              "    [theme=dark] .colab-df-convert:hover {\n",
              "      background-color: #434B5C;\n",
              "      box-shadow: 0px 1px 3px 1px rgba(0, 0, 0, 0.15);\n",
              "      filter: drop-shadow(0px 1px 2px rgba(0, 0, 0, 0.3));\n",
              "      fill: #FFFFFF;\n",
              "    }\n",
              "  </style>\n",
              "\n",
              "    <script>\n",
              "      const buttonEl =\n",
              "        document.querySelector('#df-e86a33d7-fae3-46cb-a54e-62e3a95d067f button.colab-df-convert');\n",
              "      buttonEl.style.display =\n",
              "        google.colab.kernel.accessAllowed ? 'block' : 'none';\n",
              "\n",
              "      async function convertToInteractive(key) {\n",
              "        const element = document.querySelector('#df-e86a33d7-fae3-46cb-a54e-62e3a95d067f');\n",
              "        const dataTable =\n",
              "          await google.colab.kernel.invokeFunction('convertToInteractive',\n",
              "                                                    [key], {});\n",
              "        if (!dataTable) return;\n",
              "\n",
              "        const docLinkHtml = 'Like what you see? Visit the ' +\n",
              "          '<a target=\"_blank\" href=https://colab.research.google.com/notebooks/data_table.ipynb>data table notebook</a>'\n",
              "          + ' to learn more about interactive tables.';\n",
              "        element.innerHTML = '';\n",
              "        dataTable['output_type'] = 'display_data';\n",
              "        await google.colab.output.renderOutput(dataTable, element);\n",
              "        const docLink = document.createElement('div');\n",
              "        docLink.innerHTML = docLinkHtml;\n",
              "        element.appendChild(docLink);\n",
              "      }\n",
              "    </script>\n",
              "  </div>\n",
              "\n",
              "\n",
              "    <div id=\"df-0baf676a-6c57-41c8-9636-cd15d90fa6b9\">\n",
              "      <button class=\"colab-df-quickchart\" onclick=\"quickchart('df-0baf676a-6c57-41c8-9636-cd15d90fa6b9')\"\n",
              "                title=\"Suggest charts\"\n",
              "                style=\"display:none;\">\n",
              "\n",
              "<svg xmlns=\"http://www.w3.org/2000/svg\" height=\"24px\"viewBox=\"0 0 24 24\"\n",
              "     width=\"24px\">\n",
              "    <g>\n",
              "        <path d=\"M19 3H5c-1.1 0-2 .9-2 2v14c0 1.1.9 2 2 2h14c1.1 0 2-.9 2-2V5c0-1.1-.9-2-2-2zM9 17H7v-7h2v7zm4 0h-2V7h2v10zm4 0h-2v-4h2v4z\"/>\n",
              "    </g>\n",
              "</svg>\n",
              "      </button>\n",
              "\n",
              "<style>\n",
              "  .colab-df-quickchart {\n",
              "      --bg-color: #E8F0FE;\n",
              "      --fill-color: #1967D2;\n",
              "      --hover-bg-color: #E2EBFA;\n",
              "      --hover-fill-color: #174EA6;\n",
              "      --disabled-fill-color: #AAA;\n",
              "      --disabled-bg-color: #DDD;\n",
              "  }\n",
              "\n",
              "  [theme=dark] .colab-df-quickchart {\n",
              "      --bg-color: #3B4455;\n",
              "      --fill-color: #D2E3FC;\n",
              "      --hover-bg-color: #434B5C;\n",
              "      --hover-fill-color: #FFFFFF;\n",
              "      --disabled-bg-color: #3B4455;\n",
              "      --disabled-fill-color: #666;\n",
              "  }\n",
              "\n",
              "  .colab-df-quickchart {\n",
              "    background-color: var(--bg-color);\n",
              "    border: none;\n",
              "    border-radius: 50%;\n",
              "    cursor: pointer;\n",
              "    display: none;\n",
              "    fill: var(--fill-color);\n",
              "    height: 32px;\n",
              "    padding: 0;\n",
              "    width: 32px;\n",
              "  }\n",
              "\n",
              "  .colab-df-quickchart:hover {\n",
              "    background-color: var(--hover-bg-color);\n",
              "    box-shadow: 0 1px 2px rgba(60, 64, 67, 0.3), 0 1px 3px 1px rgba(60, 64, 67, 0.15);\n",
              "    fill: var(--button-hover-fill-color);\n",
              "  }\n",
              "\n",
              "  .colab-df-quickchart-complete:disabled,\n",
              "  .colab-df-quickchart-complete:disabled:hover {\n",
              "    background-color: var(--disabled-bg-color);\n",
              "    fill: var(--disabled-fill-color);\n",
              "    box-shadow: none;\n",
              "  }\n",
              "\n",
              "  .colab-df-spinner {\n",
              "    border: 2px solid var(--fill-color);\n",
              "    border-color: transparent;\n",
              "    border-bottom-color: var(--fill-color);\n",
              "    animation:\n",
              "      spin 1s steps(1) infinite;\n",
              "  }\n",
              "\n",
              "  @keyframes spin {\n",
              "    0% {\n",
              "      border-color: transparent;\n",
              "      border-bottom-color: var(--fill-color);\n",
              "      border-left-color: var(--fill-color);\n",
              "    }\n",
              "    20% {\n",
              "      border-color: transparent;\n",
              "      border-left-color: var(--fill-color);\n",
              "      border-top-color: var(--fill-color);\n",
              "    }\n",
              "    30% {\n",
              "      border-color: transparent;\n",
              "      border-left-color: var(--fill-color);\n",
              "      border-top-color: var(--fill-color);\n",
              "      border-right-color: var(--fill-color);\n",
              "    }\n",
              "    40% {\n",
              "      border-color: transparent;\n",
              "      border-right-color: var(--fill-color);\n",
              "      border-top-color: var(--fill-color);\n",
              "    }\n",
              "    60% {\n",
              "      border-color: transparent;\n",
              "      border-right-color: var(--fill-color);\n",
              "    }\n",
              "    80% {\n",
              "      border-color: transparent;\n",
              "      border-right-color: var(--fill-color);\n",
              "      border-bottom-color: var(--fill-color);\n",
              "    }\n",
              "    90% {\n",
              "      border-color: transparent;\n",
              "      border-bottom-color: var(--fill-color);\n",
              "    }\n",
              "  }\n",
              "</style>\n",
              "\n",
              "      <script>\n",
              "        async function quickchart(key) {\n",
              "          const quickchartButtonEl =\n",
              "            document.querySelector('#' + key + ' button');\n",
              "          quickchartButtonEl.disabled = true;  // To prevent multiple clicks.\n",
              "          quickchartButtonEl.classList.add('colab-df-spinner');\n",
              "          try {\n",
              "            const charts = await google.colab.kernel.invokeFunction(\n",
              "                'suggestCharts', [key], {});\n",
              "          } catch (error) {\n",
              "            console.error('Error during call to suggestCharts:', error);\n",
              "          }\n",
              "          quickchartButtonEl.classList.remove('colab-df-spinner');\n",
              "          quickchartButtonEl.classList.add('colab-df-quickchart-complete');\n",
              "        }\n",
              "        (() => {\n",
              "          let quickchartButtonEl =\n",
              "            document.querySelector('#df-0baf676a-6c57-41c8-9636-cd15d90fa6b9 button');\n",
              "          quickchartButtonEl.style.display =\n",
              "            google.colab.kernel.accessAllowed ? 'block' : 'none';\n",
              "        })();\n",
              "      </script>\n",
              "    </div>\n",
              "\n",
              "    </div>\n",
              "  </div>\n"
            ],
            "application/vnd.google.colaboratory.intrinsic+json": {
              "type": "dataframe",
              "summary": "{\n  \"name\": \"display(df_scaled\",\n  \"rows\": 5,\n  \"fields\": [\n    {\n      \"column\": \"Entity\",\n      \"properties\": {\n        \"dtype\": \"category\",\n        \"num_unique_values\": 1,\n        \"samples\": [\n          \"Afghanistan\"\n        ],\n        \"semantic_type\": \"\",\n        \"description\": \"\"\n      }\n    },\n    {\n      \"column\": \"Year\",\n      \"properties\": {\n        \"dtype\": \"number\",\n        \"std\": 1,\n        \"min\": 1980,\n        \"max\": 1984,\n        \"num_unique_values\": 5,\n        \"samples\": [\n          1981\n        ],\n        \"semantic_type\": \"\",\n        \"description\": \"\"\n      }\n    },\n    {\n      \"column\": \"Total (estimated) polio cases\",\n      \"properties\": {\n        \"dtype\": \"number\",\n        \"std\": 0.3163632474783356,\n        \"min\": 0.19949722113901477,\n        \"max\": 1.0007216062311117,\n        \"num_unique_values\": 5,\n        \"samples\": [\n          0.35818307920103537\n        ],\n        \"semantic_type\": \"\",\n        \"description\": \"\"\n      }\n    },\n    {\n      \"column\": \"Reported cases of guinea worm disease in humans\",\n      \"properties\": {\n        \"dtype\": \"number\",\n        \"std\": 0.0,\n        \"min\": -0.05049973212371143,\n        \"max\": -0.05049973212371143,\n        \"num_unique_values\": 1,\n        \"samples\": [\n          -0.05049973212371143\n        ],\n        \"semantic_type\": \"\",\n        \"description\": \"\"\n      }\n    },\n    {\n      \"column\": \"Number of new cases of rabies, in both sexes aged all ages\",\n      \"properties\": {\n        \"dtype\": \"number\",\n        \"std\": 0.0,\n        \"min\": 3.099089421875743e-17,\n        \"max\": 3.099089421875743e-17,\n        \"num_unique_values\": 1,\n        \"samples\": [\n          3.099089421875743e-17\n        ],\n        \"semantic_type\": \"\",\n        \"description\": \"\"\n      }\n    },\n    {\n      \"column\": \"Number of new cases of malaria, in both sexes aged all ages\",\n      \"properties\": {\n        \"dtype\": \"number\",\n        \"std\": 0.0,\n        \"min\": 0.0,\n        \"max\": 0.0,\n        \"num_unique_values\": 1,\n        \"samples\": [\n          0.0\n        ],\n        \"semantic_type\": \"\",\n        \"description\": \"\"\n      }\n    },\n    {\n      \"column\": \"Number of new cases of hiv/aids, in both sexes aged all ages\",\n      \"properties\": {\n        \"dtype\": \"number\",\n        \"std\": 0.0,\n        \"min\": -3.198355760795719e-17,\n        \"max\": -3.198355760795719e-17,\n        \"num_unique_values\": 1,\n        \"samples\": [\n          -3.198355760795719e-17\n        ],\n        \"semantic_type\": \"\",\n        \"description\": \"\"\n      }\n    },\n    {\n      \"column\": \"Number of new cases of tuberculosis, in both sexes aged all ages\",\n      \"properties\": {\n        \"dtype\": \"number\",\n        \"std\": 0.0,\n        \"min\": -4.024561764726583e-17,\n        \"max\": -4.024561764726583e-17,\n        \"num_unique_values\": 1,\n        \"samples\": [\n          -4.024561764726583e-17\n        ],\n        \"semantic_type\": \"\",\n        \"description\": \"\"\n      }\n    }\n  ]\n}"
            }
          },
          "metadata": {}
        }
      ]
    },
    {
      "cell_type": "code",
      "metadata": {
        "colab": {
          "base_uri": "https://localhost:8080/"
        },
        "id": "52d65247",
        "outputId": "ab199d08-6ec0-4ccd-ea5a-51ecd2b3e87a"
      },
      "source": [
        "# Define the target variable (y) and features (X)\n",
        "target_column = 'Number of new cases of tuberculosis, in both sexes aged all ages'\n",
        "X = df_scaled.drop(columns=[target_column])\n",
        "y = df_scaled[target_column]\n",
        "\n",
        "# Split the data into training and testing sets\n",
        "# We'll use a test size of 20% and a random state for reproducibility\n",
        "X_train, X_test, y_train, y_test = train_test_split(X, y, test_size=0.2, random_state=42)\n",
        "\n",
        "print(\"Training set shapes:\")\n",
        "print(\"X_train:\", X_train.shape)\n",
        "print(\"y_train:\", y_train.shape)\n",
        "print(\"\\nTesting set shapes:\")\n",
        "print(\"X_test:\", X_test.shape)\n",
        "print(\"y_test:\", y_test.shape)"
      ],
      "execution_count": 24,
      "outputs": [
        {
          "output_type": "stream",
          "name": "stdout",
          "text": [
            "Training set shapes:\n",
            "X_train: (8416, 7)\n",
            "y_train: (8416,)\n",
            "\n",
            "Testing set shapes:\n",
            "X_test: (2105, 7)\n",
            "y_test: (2105,)\n"
          ]
        }
      ]
    },
    {
      "cell_type": "code",
      "source": [
        "df.info()"
      ],
      "metadata": {
        "colab": {
          "base_uri": "https://localhost:8080/"
        },
        "id": "G2lNtau3uctm",
        "outputId": "cfd2faa6-56c9-4a7d-c68f-c0ad628df849"
      },
      "execution_count": 25,
      "outputs": [
        {
          "output_type": "stream",
          "name": "stdout",
          "text": [
            "<class 'pandas.core.frame.DataFrame'>\n",
            "RangeIndex: 10521 entries, 0 to 10520\n",
            "Data columns (total 8 columns):\n",
            " #   Column                                                            Non-Null Count  Dtype  \n",
            "---  ------                                                            --------------  -----  \n",
            " 0   Entity                                                            10521 non-null  object \n",
            " 1   Year                                                              10521 non-null  int64  \n",
            " 2   Total (estimated) polio cases                                     10521 non-null  float64\n",
            " 3   Reported cases of guinea worm disease in humans                   10521 non-null  float64\n",
            " 4   Number of new cases of rabies, in both sexes aged all ages        10521 non-null  float64\n",
            " 5   Number of new cases of malaria, in both sexes aged all ages       10521 non-null  float64\n",
            " 6   Number of new cases of hiv/aids, in both sexes aged all ages      10521 non-null  float64\n",
            " 7   Number of new cases of tuberculosis, in both sexes aged all ages  10521 non-null  float64\n",
            "dtypes: float64(6), int64(1), object(1)\n",
            "memory usage: 657.7+ KB\n"
          ]
        }
      ]
    },
    {
      "cell_type": "markdown",
      "metadata": {
        "id": "f9d19d79"
      },
      "source": [
        "## Model Selection\n",
        "\n",
        "Since we're predicting the number of tuberculosis cases (a number), this is a **regression** problem.\n",
        "\n",
        "Here are some things to think about when picking a model:\n",
        "\n",
        "*   **How much data do you have?** Some models work better with more data.\n",
        "*   **How complicated is the data?** Some models can find more complex patterns.\n",
        "*   **Do you need to understand *why* the model makes a prediction?** Some models are easier to understand than others.\n",
        "*   **How long does it take to train the model?** Some models take a lot of time and computer power.\n",
        "\n",
        "We are trying different regression models - Linear Regression and Random Forests to see which one works best for our data."
      ]
    },
    {
      "cell_type": "code",
      "metadata": {
        "colab": {
          "base_uri": "https://localhost:8080/"
        },
        "id": "a4e4ffdd",
        "outputId": "16a2ae0e-7b6b-4631-ce39-055373c6a4d7"
      },
      "source": [
        "from sklearn.ensemble import RandomForestRegressor\n",
        "from sklearn.preprocessing import OneHotEncoder\n",
        "from sklearn.compose import ColumnTransformer\n",
        "from sklearn.pipeline import Pipeline\n",
        "\n",
        "# Identify the categorical feature column\n",
        "categorical_features = ['Entity']\n",
        "\n",
        "# Create a ColumnTransformer to apply OneHotEncoder to the categorical column\n",
        "# remainder='passthrough' keeps the other numerical columns\n",
        "preprocessor = ColumnTransformer(\n",
        "    transformers=[\n",
        "        ('cat', OneHotEncoder(handle_unknown='ignore'), categorical_features)\n",
        "    ],\n",
        "    remainder='passthrough'\n",
        ")\n",
        "\n",
        "# Create a pipeline that first preprocesses the data and then trains the Random Forest Regressor\n",
        "rf_model = Pipeline(steps=[('preprocessor', preprocessor),\n",
        "                           ('regressor', RandomForestRegressor(n_estimators=100, random_state=42))])\n",
        "\n",
        "# Train the model using the training data\n",
        "rf_model.fit(X_train, y_train)\n",
        "\n",
        "print(\"Random Forest Regressor model trained successfully.\")"
      ],
      "execution_count": 26,
      "outputs": [
        {
          "output_type": "stream",
          "name": "stdout",
          "text": [
            "Random Forest Regressor model trained successfully.\n"
          ]
        }
      ]
    },
    {
      "cell_type": "code",
      "source": [
        "from sklearn.linear_model import LinearRegression # Import LinearRegression\n",
        "from sklearn.pipeline import Pipeline\n",
        "from sklearn.compose import ColumnTransformer\n",
        "from sklearn.preprocessing import OneHotEncoder\n",
        "\n",
        "# Identify the categorical feature column\n",
        "categorical_features = ['Entity']\n",
        "\n",
        "# Create a ColumnTransformer to apply OneHotEncoder to the categorical column\n",
        "# remainder='passthrough' keeps the other numerical columns\n",
        "preprocessor = ColumnTransformer(\n",
        "    transformers=[\n",
        "        ('cat', OneHotEncoder(handle_unknown='ignore'), categorical_features)\n",
        "    ],\n",
        "    remainder='passthrough'\n",
        ")\n",
        "\n",
        "# Create a pipeline that first preprocesses the data and then trains the Linear Regression model\n",
        "linear_model = Pipeline(steps=[('preprocessor', preprocessor),\n",
        "                              ('regressor', LinearRegression())])\n",
        "\n",
        "# Train the model using the training data\n",
        "linear_model.fit(X_train, y_train)\n",
        "\n",
        "print(\"Linear Regression model trained successfully.\")"
      ],
      "metadata": {
        "colab": {
          "base_uri": "https://localhost:8080/"
        },
        "id": "uimkU1w_wlE9",
        "outputId": "db9c06a9-900a-4d2e-cf1d-63450fcf996b"
      },
      "execution_count": 27,
      "outputs": [
        {
          "output_type": "stream",
          "name": "stdout",
          "text": [
            "Linear Regression model trained successfully.\n"
          ]
        }
      ]
    },
    {
      "cell_type": "markdown",
      "source": [
        "###Model Evaluation"
      ],
      "metadata": {
        "id": "mq5UgRGEx_-3"
      }
    },
    {
      "cell_type": "code",
      "metadata": {
        "colab": {
          "base_uri": "https://localhost:8080/"
        },
        "id": "70e8401f",
        "outputId": "6b5c5139-c59a-4ec0-b899-eddb030162f1"
      },
      "source": [
        "from sklearn.metrics import mean_squared_error, mean_absolute_error, r2_score\n",
        "import numpy as np\n",
        "\n",
        "# Make predictions on the test set for both models\n",
        "y_pred_rf = rf_model.predict(X_test)\n",
        "y_pred_linear = linear_model.predict(X_test)\n",
        "\n",
        "# Evaluate Random Forest Regressor\n",
        "mse_rf = mean_squared_error(y_test, y_pred_rf)\n",
        "rmse_rf = np.sqrt(mse_rf)\n",
        "mae_rf = mean_absolute_error(y_test, y_pred_rf)\n",
        "r2_rf = r2_score(y_test, y_pred_rf)\n",
        "\n",
        "print(\"Random Forest Regressor Evaluation:\")\n",
        "print(f\"  Mean Squared Error (MSE): {mse_rf:.4f}\")\n",
        "print(f\"  Root Mean Squared Error (RMSE): {rmse_rf:.4f}\")\n",
        "print(f\"  Mean Absolute Error (MAE): {mae_rf:.4f}\")\n",
        "print(f\"  R-squared (R2): {r2_rf:.4f}\")\n",
        "\n",
        "print(\"\\n\" + \"=\"*30 + \"\\n\")\n",
        "\n",
        "# Evaluate Linear Regression\n",
        "mse_linear = mean_squared_error(y_test, y_pred_linear)\n",
        "rmse_linear = np.sqrt(mse_linear)\n",
        "mae_linear = mean_absolute_error(y_test, y_pred_linear)\n",
        "r2_linear = r2_score(y_test, y_pred_linear)\n",
        "\n",
        "print(\"Linear Regression Evaluation:\")\n",
        "print(f\"  Mean Squared Error (MSE): {mse_linear:.4f}\")\n",
        "print(f\"  Root Mean Squared Error (RMSE): {rmse_linear:.4f}\")\n",
        "print(f\"  Mean Absolute Error (MAE): {mae_linear:.4f}\")\n",
        "print(f\"  R-squared (R2): {r2_linear:.4f}\")"
      ],
      "execution_count": 28,
      "outputs": [
        {
          "output_type": "stream",
          "name": "stdout",
          "text": [
            "Random Forest Regressor Evaluation:\n",
            "  Mean Squared Error (MSE): 0.0006\n",
            "  Root Mean Squared Error (RMSE): 0.0248\n",
            "  Mean Absolute Error (MAE): 0.0036\n",
            "  R-squared (R2): 0.9993\n",
            "\n",
            "==============================\n",
            "\n",
            "Linear Regression Evaluation:\n",
            "  Mean Squared Error (MSE): 0.0221\n",
            "  Root Mean Squared Error (RMSE): 0.1488\n",
            "  Mean Absolute Error (MAE): 0.0530\n",
            "  R-squared (R2): 0.9731\n"
          ]
        }
      ]
    },
    {
      "cell_type": "markdown",
      "metadata": {
        "id": "c0cf1eb6"
      },
      "source": [
        "# Task\n",
        "Tune and optimize the Random Forest Regressor model to predict the number of new cases of tuberculosis using the provided dataset."
      ]
    },
    {
      "cell_type": "markdown",
      "metadata": {
        "id": "e2b2d4e6"
      },
      "source": [
        "## Identify key hyperparameters\n",
        "\n",
        "### Subtask:\n",
        "Identify the key hyperparameters of the RandomForestRegressor model that will be tuned.\n"
      ]
    },
    {
      "cell_type": "markdown",
      "metadata": {
        "id": "c4169c0d"
      },
      "source": [
        "**Reasoning**:\n",
        "Identify the key hyperparameters of the RandomForestRegressor model.\n",
        "\n"
      ]
    },
    {
      "cell_type": "code",
      "metadata": {
        "colab": {
          "base_uri": "https://localhost:8080/"
        },
        "id": "034688de",
        "outputId": "e456e85b-b7a7-4b49-f5e3-5495ced1d4a7"
      },
      "source": [
        "# Key hyperparameters for RandomForestRegressor tuning\n",
        "# n_estimators: The number of trees in the forest. Increasing the number of trees generally improves the performance but also increases the computational cost.\n",
        "# max_depth: The maximum depth of the tree. This limits the number of nodes in the tree.\n",
        "# min_samples_split: The minimum number of samples required to split an internal node.\n",
        "# min_samples_leaf: The minimum number of samples required to be at a leaf node.\n",
        "# max_features: The number of features to consider when looking for the best split.\n",
        "# bootstrap: Whether bootstrap samples are used when building trees.\n",
        "\n",
        "print(\"Key hyperparameters for RandomForestRegressor tuning:\")\n",
        "print(\"- n_estimators: Number of trees in the forest.\")\n",
        "print(\"- max_depth: Maximum depth of individual trees.\")\n",
        "print(\"- min_samples_split: Minimum number of samples required to split an internal node.\")\n",
        "print(\"- min_samples_leaf: Minimum number of samples required at a leaf node.\")\n",
        "print(\"- max_features: Number of features to consider for the best split.\")\n",
        "print(\"- bootstrap: Whether bootstrap samples are used when building trees.\")"
      ],
      "execution_count": 29,
      "outputs": [
        {
          "output_type": "stream",
          "name": "stdout",
          "text": [
            "Key hyperparameters for RandomForestRegressor tuning:\n",
            "- n_estimators: Number of trees in the forest.\n",
            "- max_depth: Maximum depth of individual trees.\n",
            "- min_samples_split: Minimum number of samples required to split an internal node.\n",
            "- min_samples_leaf: Minimum number of samples required at a leaf node.\n",
            "- max_features: Number of features to consider for the best split.\n",
            "- bootstrap: Whether bootstrap samples are used when building trees.\n"
          ]
        }
      ]
    },
    {
      "cell_type": "markdown",
      "metadata": {
        "id": "77a08f28"
      },
      "source": [
        "## Define a hyperparameter grid\n",
        "\n",
        "### Subtask:\n",
        "Define a hyperparameter grid for the identified key hyperparameters of the Random Forest Regressor model.\n"
      ]
    },
    {
      "cell_type": "markdown",
      "metadata": {
        "id": "4b6dcbf7"
      },
      "source": [
        "**Reasoning**:\n",
        "Define the hyperparameter grid for the Random Forest Regressor model to be used in GridSearchCV.\n",
        "\n"
      ]
    },
    {
      "cell_type": "code",
      "metadata": {
        "colab": {
          "base_uri": "https://localhost:8080/"
        },
        "id": "f879d279",
        "outputId": "1f6feeed-0569-4349-ccd6-443ee8dbd00d"
      },
      "source": [
        "# Define the hyperparameter grid for the Random Forest Regressor\n",
        "param_grid = {\n",
        "    'regressor__n_estimators': [50, 100, 150], # Number of trees in the forest\n",
        "    'regressor__max_depth': [None, 10, 20], # Maximum depth of individual trees\n",
        "    'regressor__min_samples_split': [2, 5, 10], # Minimum number of samples required to split an internal node\n",
        "    'regressor__min_samples_leaf': [1, 2, 4], # Minimum number of samples required at a leaf node\n",
        "    'regressor__max_features': ['sqrt', 'log2'], # Number of features to consider for the best split\n",
        "    'regressor__bootstrap': [True, False] # Whether bootstrap samples are used\n",
        "}\n",
        "\n",
        "print(\"Hyperparameter grid defined:\")\n",
        "print(param_grid)"
      ],
      "execution_count": 30,
      "outputs": [
        {
          "output_type": "stream",
          "name": "stdout",
          "text": [
            "Hyperparameter grid defined:\n",
            "{'regressor__n_estimators': [50, 100, 150], 'regressor__max_depth': [None, 10, 20], 'regressor__min_samples_split': [2, 5, 10], 'regressor__min_samples_leaf': [1, 2, 4], 'regressor__max_features': ['sqrt', 'log2'], 'regressor__bootstrap': [True, False]}\n"
          ]
        }
      ]
    },
    {
      "cell_type": "code",
      "source": [],
      "metadata": {
        "id": "OONSnClU1NLy"
      },
      "execution_count": null,
      "outputs": []
    },
    {
      "cell_type": "markdown",
      "metadata": {
        "id": "113ea5c0"
      },
      "source": [
        "## Final Model Testing and Saving"
      ]
    },
    {
      "cell_type": "markdown",
      "metadata": {
        "id": "d7390af5"
      },
      "source": [
        "## Identify key hyperparameters\n",
        "\n",
        "### Subtask:\n",
        "Identify the key hyperparameters of the RandomForestRegressor model that will be tuned."
      ]
    },
    {
      "cell_type": "markdown",
      "metadata": {
        "id": "27291583"
      },
      "source": [
        "**Reasoning**:\n",
        "Identify the key hyperparameters of the RandomForestRegressor model."
      ]
    },
    {
      "cell_type": "code",
      "metadata": {
        "colab": {
          "base_uri": "https://localhost:8080/"
        },
        "id": "002dfe00",
        "outputId": "93a0941b-e16a-4346-8ea2-84bbc482f67c"
      },
      "source": [
        "import joblib\n",
        "\n",
        "# Save the trained Random Forest model to a file\n",
        "joblib.dump(rf_model, 'rf_model.pkl')\n",
        "\n",
        "print(\"Random Forest model saved as 'rf_model.pkl'\")"
      ],
      "execution_count": 31,
      "outputs": [
        {
          "output_type": "stream",
          "name": "stdout",
          "text": [
            "Random Forest model saved as 'rf_model.pkl'\n"
          ]
        }
      ]
    },
    {
      "cell_type": "code",
      "source": [
        "joblib.dump(scaler, 'scaler.pkl')"
      ],
      "metadata": {
        "colab": {
          "base_uri": "https://localhost:8080/"
        },
        "id": "gF4nlHr566jo",
        "outputId": "8b93ddc3-b936-4c4d-eb4f-f3cb450c96f8"
      },
      "execution_count": 32,
      "outputs": [
        {
          "output_type": "execute_result",
          "data": {
            "text/plain": [
              "['scaler.pkl']"
            ]
          },
          "metadata": {},
          "execution_count": 32
        }
      ]
    },
    {
      "cell_type": "code",
      "source": [
        "df.columns"
      ],
      "metadata": {
        "colab": {
          "base_uri": "https://localhost:8080/"
        },
        "id": "uc5H9LwHNisT",
        "outputId": "9dc30c85-da91-4ef1-be7d-6d7d715aa2a4"
      },
      "execution_count": 33,
      "outputs": [
        {
          "output_type": "execute_result",
          "data": {
            "text/plain": [
              "Index(['Entity', 'Year', 'Total (estimated) polio cases',\n",
              "       'Reported cases of guinea worm disease in humans',\n",
              "       'Number of new cases of rabies, in both sexes aged all ages',\n",
              "       'Number of new cases of malaria, in both sexes aged all ages',\n",
              "       'Number of new cases of hiv/aids, in both sexes aged all ages',\n",
              "       'Number of new cases of tuberculosis, in both sexes aged all ages'],\n",
              "      dtype='object')"
            ]
          },
          "metadata": {},
          "execution_count": 33
        }
      ]
    },
    {
      "cell_type": "code",
      "source": [
        "print(df.isnull().sum())"
      ],
      "metadata": {
        "colab": {
          "base_uri": "https://localhost:8080/"
        },
        "id": "T3XWQKOjNlFD",
        "outputId": "6468d371-bb63-401b-90a6-a2ee69498a1c"
      },
      "execution_count": 34,
      "outputs": [
        {
          "output_type": "stream",
          "name": "stdout",
          "text": [
            "Entity                                                              0\n",
            "Year                                                                0\n",
            "Total (estimated) polio cases                                       0\n",
            "Reported cases of guinea worm disease in humans                     0\n",
            "Number of new cases of rabies, in both sexes aged all ages          0\n",
            "Number of new cases of malaria, in both sexes aged all ages         0\n",
            "Number of new cases of hiv/aids, in both sexes aged all ages        0\n",
            "Number of new cases of tuberculosis, in both sexes aged all ages    0\n",
            "dtype: int64\n"
          ]
        }
      ]
    },
    {
      "cell_type": "code",
      "source": [],
      "metadata": {
        "id": "JdWNQ4gQS9gv"
      },
      "execution_count": null,
      "outputs": []
    },
    {
      "cell_type": "markdown",
      "metadata": {
        "id": "2b0af960"
      },
      "source": [
        "# Task\n",
        "Deploy the trained Random Forest model and the scaler in a Python script (`.py` file) that can be used to make predictions on new data. The script should load the model and scaler from \"rf_model.joblib\" and \"scaler.pkl\" respectively, preprocess new data using the same steps as during training (one-hot encoding and scaling), and provide a function to make predictions."
      ]
    },
    {
      "cell_type": "markdown",
      "metadata": {
        "id": "34261db5"
      },
      "source": [
        "## Load the model and scaler\n",
        "\n",
        "### Subtask:\n",
        "Load the trained Random Forest model and the StandardScaler object from the saved files.\n"
      ]
    },
    {
      "cell_type": "markdown",
      "metadata": {
        "id": "cc4607dc"
      },
      "source": [
        "**Reasoning**:\n",
        "Load the saved Random Forest model and StandardScaler object using joblib.\n",
        "\n"
      ]
    },
    {
      "cell_type": "code",
      "metadata": {
        "colab": {
          "base_uri": "https://localhost:8080/"
        },
        "id": "8be130f3",
        "outputId": "114d6a5c-d36f-49b1-a67f-b21218483707"
      },
      "source": [
        "# Load the trained Random Forest model and the StandardScaler object\n",
        "loaded_rf_model = joblib.load('rf_model.pkl')\n",
        "loaded_scaler = joblib.load('scaler.pkl')\n",
        "\n",
        "print(\"Random Forest model and StandardScaler loaded successfully.\")"
      ],
      "execution_count": 35,
      "outputs": [
        {
          "output_type": "stream",
          "name": "stdout",
          "text": [
            "Random Forest model and StandardScaler loaded successfully.\n"
          ]
        }
      ]
    },
    {
      "cell_type": "markdown",
      "metadata": {
        "id": "d494d5bf"
      },
      "source": [
        "## Define preprocessing steps\n",
        "\n",
        "### Subtask:\n",
        "Define the preprocessing steps that were applied to the training data, including one-hot encoding for the 'Entity' column and scaling for the numerical features.\n"
      ]
    },
    {
      "cell_type": "markdown",
      "metadata": {
        "id": "87cd5807"
      },
      "source": [
        "**Reasoning**:\n",
        "Define the preprocessing steps using ColumnTransformer.\n",
        "\n"
      ]
    },
    {
      "cell_type": "code",
      "metadata": {
        "colab": {
          "base_uri": "https://localhost:8080/"
        },
        "id": "6e3fae20",
        "outputId": "0783e8d5-5f0d-421a-b77d-dcf89fe2f734"
      },
      "source": [
        "from sklearn.compose import ColumnTransformer\n",
        "from sklearn.preprocessing import OneHotEncoder\n",
        "\n",
        "# Identify the categorical feature column\n",
        "categorical_features = ['Entity']\n",
        "\n",
        "# Identify the numerical feature columns that were scaled (excluding the target)\n",
        "numerical_features_to_scale = [\n",
        "    'Total (estimated) polio cases',\n",
        "    'Reported cases of guinea worm disease in humans',\n",
        "    'Number of new cases of rabies, in both sexes aged all ages',\n",
        "    'Number of new cases of malaria, in both sexes aged all ages',\n",
        "    'Number of new cases of hiv/aids, in both sexes aged all ages'\n",
        "]\n",
        "\n",
        "# Create a ColumnTransformer to apply OneHotEncoder to the categorical column\n",
        "# and use the loaded_scaler to scale the numerical columns.\n",
        "preprocessor = ColumnTransformer(\n",
        "    transformers=[\n",
        "        ('cat', OneHotEncoder(handle_unknown='ignore'), categorical_features),\n",
        "        ('num', loaded_scaler, numerical_features_to_scale)\n",
        "    ],\n",
        "    remainder='passthrough' # Keep other columns (should only be 'Year')\n",
        ")\n",
        "\n",
        "print(\"Preprocessor ColumnTransformer defined.\")"
      ],
      "execution_count": 36,
      "outputs": [
        {
          "output_type": "stream",
          "name": "stdout",
          "text": [
            "Preprocessor ColumnTransformer defined.\n"
          ]
        }
      ]
    },
    {
      "cell_type": "markdown",
      "metadata": {
        "id": "6c81549f"
      },
      "source": [
        "## Create a prediction function\n",
        "\n",
        "### Subtask:\n",
        "Write a function that takes new data as input, applies the preprocessing steps, and uses the loaded model to make predictions.\n"
      ]
    },
    {
      "cell_type": "markdown",
      "metadata": {
        "id": "9665fafc"
      },
      "source": [
        "**Reasoning**:\n",
        "Define a Python function `predict_tuberculosis_cases` that takes a new DataFrame, applies the preprocessor, and uses the loaded model to make predictions.\n",
        "\n"
      ]
    },
    {
      "cell_type": "code",
      "metadata": {
        "colab": {
          "base_uri": "https://localhost:8080/"
        },
        "id": "e539acf3",
        "outputId": "a8a6da51-4e79-48d5-d0a4-1dc44a47599d"
      },
      "source": [
        "import pandas as pd\n",
        "\n",
        "def predict_tuberculosis_cases(new_data_df):\n",
        "  \"\"\"\n",
        "  Predicts the number of new tuberculosis cases using the trained Random Forest model.\n",
        "\n",
        "  Args:\n",
        "    new_data_df: A pandas DataFrame containing the new data for prediction.\n",
        "                   It should have the same columns as the training data (excluding the target).\n",
        "\n",
        "  Returns:\n",
        "    A numpy array containing the predicted number of tuberculosis cases.\n",
        "  \"\"\"\n",
        "  # Apply the preprocessor to the new data\n",
        "  preprocessed_data = preprocessor.transform(new_data_df)\n",
        "\n",
        "  # Make predictions using the loaded Random Forest model\n",
        "  predictions = loaded_rf_model.predict(preprocessed_data)\n",
        "\n",
        "  return predictions\n",
        "\n",
        "print(\"predict_tuberculosis_cases function defined.\")"
      ],
      "execution_count": 37,
      "outputs": [
        {
          "output_type": "stream",
          "name": "stdout",
          "text": [
            "predict_tuberculosis_cases function defined.\n"
          ]
        }
      ]
    },
    {
      "cell_type": "markdown",
      "metadata": {
        "id": "4c26bfe0"
      },
      "source": [
        "## Add example usage\n",
        "\n",
        "### Subtask:\n",
        "Include an example of how to use the prediction function with sample data.\n"
      ]
    },
    {
      "cell_type": "markdown",
      "metadata": {
        "id": "b41d8324"
      },
      "source": [
        "**Reasoning**:\n",
        "Create sample data mimicking the training data structure and use the prediction function to demonstrate its usage.\n",
        "\n"
      ]
    },
    {
      "cell_type": "code",
      "metadata": {
        "colab": {
          "base_uri": "https://localhost:8080/"
        },
        "id": "d3e62a25",
        "outputId": "171c96e8-cb03-4482-8376-35316c3ed327"
      },
      "source": [
        "# Create sample new data\n",
        "sample_new_data = pd.DataFrame({\n",
        "    'Entity': ['Afghanistan', 'World'],\n",
        "    'Year': [2024, 2024],\n",
        "    'Total (estimated) polio cases': [10.0, 5000.0],\n",
        "    'Reported cases of guinea worm disease in humans': [0.0, 100.0],\n",
        "    'Number of new cases of rabies, in both sexes aged all ages': [5.0, 500.0],\n",
        "    'Number of new cases of malaria, in both sexes aged all ages': [1000.0, 1000000.0],\n",
        "    'Number of new cases of hiv/aids, in both sexes aged all ages': [50.0, 50000.0]\n",
        "})\n",
        "\n",
        "# Fit the preprocessor on the training data\n",
        "preprocessor.fit(X_train)\n",
        "\n",
        "# Make predictions using the defined function\n",
        "sample_predictions = predict_tuberculosis_cases(sample_new_data)\n",
        "\n",
        "# Print the predictions\n",
        "print(\"\\nPredictions for sample new data:\")\n",
        "print(sample_predictions)"
      ],
      "execution_count": 42,
      "outputs": [
        {
          "output_type": "stream",
          "name": "stdout",
          "text": [
            "\n",
            "Predictions for sample new data:\n",
            "[10.73344063 11.93360296]\n"
          ]
        }
      ]
    },
    {
      "cell_type": "markdown",
      "metadata": {
        "id": "9decfba4"
      },
      "source": [
        "**Reasoning**:\n",
        "The ColumnTransformer needs to be fitted on the training data before it can be used for transformation. I will fit the preprocessor on the training features (X_train) to resolve the `NotFittedError`.\n",
        "\n"
      ]
    },
    {
      "cell_type": "code",
      "metadata": {
        "colab": {
          "base_uri": "https://localhost:8080/"
        },
        "id": "RzHcEGsn1p-Y",
        "outputId": "ecb49f7d-b013-43cc-8fb0-6d5d9e1ed224"
      },
      "source": [
        "# Fit the preprocessor on the training data\n",
        "preprocessor.fit(X_train)\n",
        "\n",
        "# Make predictions using the defined function with sample new data\n",
        "sample_predictions = predict_tuberculosis_cases(sample_new_data)\n",
        "\n",
        "# Print the predictions\n",
        "print(\"\\nPredictions for sample new data:\")\n",
        "print(sample_predictions)"
      ],
      "execution_count": 43,
      "outputs": [
        {
          "output_type": "stream",
          "name": "stdout",
          "text": [
            "\n",
            "Predictions for sample new data:\n",
            "[10.73344063 11.93360296]\n"
          ]
        }
      ]
    },
    {
      "cell_type": "markdown",
      "metadata": {
        "id": "348f294a"
      },
      "source": [
        "**Reasoning**:\n",
        "The error indicates a mismatch in the number of features expected by the ColumnTransformer and the number of features in the input data. This is likely because the `preprocessor` was fitted within the pipeline during the initial training, which included the `OneHotEncoder`. When the `preprocessor` is fitted separately, it's being fitted on the original `X_train` before the OneHotEncoder is applied, leading to the mismatch when `transform` is called later. The ColumnTransformer should be fitted as part of the pipeline. I will use the `loaded_rf_model` which is a pipeline that includes the preprocessor and is already fitted.\n",
        "\n"
      ]
    },
    {
      "cell_type": "code",
      "metadata": {
        "colab": {
          "base_uri": "https://localhost:8080/"
        },
        "id": "DB731m2T1szr",
        "outputId": "14eac200-305d-4f03-8f40-0c582fd058d0"
      },
      "source": [
        "# Make predictions using the loaded Random Forest model (which is a pipeline)\n",
        "sample_predictions = loaded_rf_model.predict(sample_new_data)\n",
        "\n",
        "# Print the predictions\n",
        "print(\"\\nPredictions for sample new data:\")\n",
        "print(sample_predictions)"
      ],
      "execution_count": 40,
      "outputs": [
        {
          "output_type": "stream",
          "name": "stdout",
          "text": [
            "\n",
            "Predictions for sample new data:\n",
            "[10.73344063 11.93360296]\n"
          ]
        }
      ]
    },
    {
      "cell_type": "markdown",
      "metadata": {
        "id": "992ce365"
      },
      "source": [
        "## Save the code as a .py file\n",
        "\n",
        "### Subtask:\n",
        "Put all the code into a Python script (`.py` file).\n"
      ]
    },
    {
      "cell_type": "markdown",
      "metadata": {
        "id": "7feae6fe"
      },
      "source": [
        "**Reasoning**:\n",
        "Put all the necessary code into a Python script named `predict_tuberculosis.py` to create a deployable prediction script.\n",
        "\n"
      ]
    },
    {
      "cell_type": "code",
      "metadata": {
        "colab": {
          "base_uri": "https://localhost:8080/"
        },
        "id": "ef17b846",
        "outputId": "0b941d44-262c-43e7-9097-3e1840b4dbb1"
      },
      "source": [
        "# predict_tuberculosis.py\n",
        "\n",
        "import pandas as pd\n",
        "import joblib\n",
        "from sklearn.compose import ColumnTransformer\n",
        "from sklearn.preprocessing import OneHotEncoder\n",
        "import numpy as np\n",
        "\n",
        "# Load the trained Random Forest model and the StandardScaler object\n",
        "loaded_rf_model = joblib.load('rf_model.pkl')\n",
        "loaded_scaler = joblib.load('scaler.pkl')\n",
        "\n",
        "# Identify the categorical feature column\n",
        "categorical_features = ['Entity']\n",
        "\n",
        "# Identify the numerical feature columns that were scaled (excluding the target)\n",
        "# Make sure these columns match the ones used during training and scaling.\n",
        "numerical_features_to_scale = [\n",
        "    'Total (estimated) polio cases',\n",
        "    'Reported cases of guinea worm disease in humans',\n",
        "    'Number of new cases of rabies, in both sexes aged all ages',\n",
        "    'Number of new cases of malaria, in both sexes aged all ages',\n",
        "    'Number of new cases of hiv/aids, in both sexes aged all ages'\n",
        "]\n",
        "\n",
        "\n",
        "# Create a ColumnTransformer to apply OneHotEncoder to the categorical column\n",
        "# Note: When using the loaded pipeline for prediction, the preprocessor is\n",
        "# already part of the pipeline and fitted. We redefine it here primarily\n",
        "# for clarity on the preprocessing steps involved if one were to build\n",
        "# the prediction function from scratch or use the preprocessor separately.\n",
        "# However, for prediction using the loaded pipeline, this separate preprocessor\n",
        "# definition is not strictly necessary as the pipeline handles it internally.\n",
        "# We keep it here to show the transformations applied.\n",
        "preprocessor = ColumnTransformer(\n",
        "    transformers=[\n",
        "        ('cat', OneHotEncoder(handle_unknown='ignore'), categorical_features),\n",
        "        ('num', loaded_scaler, numerical_features_to_scale)\n",
        "    ],\n",
        "    remainder='passthrough' # Keep other columns ('Year' in this case)\n",
        ")\n",
        "\n",
        "\n",
        "def predict_tuberculosis_cases(new_data_df):\n",
        "  \"\"\"\n",
        "  Predicts the number of new tuberculosis cases using the trained Random Forest model.\n",
        "\n",
        "  Args:\n",
        "    new_data_df: A pandas DataFrame containing the new data for prediction.\n",
        "                   It should have the same columns as the features used during\n",
        "                   training (excluding the target), including 'Entity', 'Year',\n",
        "                   and the numerical features listed in numerical_features_to_scale.\n",
        "\n",
        "  Returns:\n",
        "    A numpy array containing the predicted number of tuberculosis cases.\n",
        "  \"\"\"\n",
        "  # The loaded_rf_model is a pipeline that includes the preprocessor.\n",
        "  # We can directly call predict on the pipeline with the raw new data.\n",
        "  predictions = loaded_rf_model.predict(new_data_df)\n",
        "\n",
        "  return predictions\n",
        "\n",
        "# Example Usage:\n",
        "if __name__ == \"__main__\":\n",
        "    # Create a sample DataFrame with the same structure as the training features\n",
        "    # Ensure the column names match exactly.\n",
        "    sample_new_data = pd.DataFrame({\n",
        "        'Entity': ['Afghanistan', 'World'],\n",
        "        'Year': [2024, 2024],\n",
        "        'Total (estimated) polio cases': [10.0, 5000.0],\n",
        "        'Reported cases of guinea worm disease in humans': [0.0, 100.0],\n",
        "        'Number of new cases of rabies, in both sexes aged all ages': [5.0, 500.0],\n",
        "        'Number of new cases of malaria, in both sexes aged all ages': [1000.0, 1000000.0],\n",
        "        'Number of new cases of hiv/aids, in both sexes aged all ages': [50.0, 50000.0]\n",
        "    })\n",
        "\n",
        "    # Make predictions using the prediction function\n",
        "    sample_predictions = predict_tuberculosis_cases(sample_new_data)\n",
        "\n",
        "    # Print the predictions\n",
        "    print(\"Predictions for sample new data:\")\n",
        "    print(sample_predictions)"
      ],
      "execution_count": 41,
      "outputs": [
        {
          "output_type": "stream",
          "name": "stdout",
          "text": [
            "Predictions for sample new data:\n",
            "[10.73344063 11.93360296]\n"
          ]
        }
      ]
    },
    {
      "cell_type": "markdown",
      "metadata": {
        "id": "8eb57d8c"
      },
      "source": [
        "## Summary:\n",
        "\n",
        "### Data Analysis Key Findings\n",
        "\n",
        "*   The Random Forest model and the StandardScaler object were successfully loaded from 'rf\\_model.pkl' and 'scaler.pkl' using `joblib`.\n",
        "*   A `ColumnTransformer` was defined to specify the preprocessing steps: one-hot encoding for the 'Entity' column and scaling for the numerical features.\n",
        "*   A Python function `predict_tuberculosis_cases` was created to take new data, preprocess it using the defined steps (implicitly handled by the loaded pipeline model), and return predictions.\n",
        "*   An example usage with sample data demonstrated that the loaded Random Forest model is a pipeline capable of performing both preprocessing and prediction directly on raw input data.\n",
        "\n",
        "### Insights or Next Steps\n",
        "\n",
        "*   The script `predict_tuberculosis.py` is ready to be deployed for making predictions on new, unseen data regarding tuberculosis cases, provided the input data has the expected column structure.\n",
        "*   Further steps could involve integrating this script into a web service (e.g., Flask or FastAPI) or a larger data processing pipeline to enable real-time or batch predictions.\n"
      ]
    },
    {
      "cell_type": "markdown",
      "metadata": {
        "id": "da3a9cf1"
      },
      "source": [
        "## Save the code as a .py file\n",
        "\n",
        "### Subtask:\n",
        "Put all the code into a Python script (`.py` file)."
      ]
    },
    {
      "cell_type": "markdown",
      "metadata": {
        "id": "e0292962"
      },
      "source": [
        "**Reasoning**:\n",
        "Put all the necessary code into a Python script named `predict_tuberculosis.py` to create a deployable prediction script."
      ]
    },
    {
      "cell_type": "code",
      "metadata": {
        "colab": {
          "base_uri": "https://localhost:8080/"
        },
        "id": "5035170a",
        "outputId": "a0926d62-c379-4668-9216-c57a75b9d27f"
      },
      "source": [
        "%%writefile predict_tuberculosis.py\n",
        "\n",
        "import pandas as pd\n",
        "import joblib\n",
        "from sklearn.compose import ColumnTransformer\n",
        "from sklearn.preprocessing import OneHotEncoder\n",
        "import numpy as np\n",
        "\n",
        "# Load the trained Random Forest model and the StandardScaler object\n",
        "loaded_rf_model = joblib.load('rf_model.pkl')\n",
        "loaded_scaler = joblib.load('scaler.pkl')\n",
        "\n",
        "# Identify the categorical feature column\n",
        "categorical_features = ['Entity']\n",
        "\n",
        "# Identify the numerical feature columns that were scaled (excluding the target)\n",
        "# Make sure these columns match the ones used during training and scaling.\n",
        "numerical_features_to_scale = [\n",
        "    'Total (estimated) polio cases',\n",
        "    'Reported cases of guinea worm disease in humans',\n",
        "    'Number of new cases of rabies, in both sexes aged all ages',\n",
        "    'Number of new cases of malaria, in both sexes aged all ages',\n",
        "    'Number of new cases of hiv/aids, in both sexes aged all ages'\n",
        "]\n",
        "\n",
        "\n",
        "# Create a ColumnTransformer to apply OneHotEncoder to the categorical column\n",
        "# Note: When using the loaded pipeline for prediction, the preprocessor is\n",
        "# already part of the pipeline and fitted. We redefine it here primarily\n",
        "# for clarity on the preprocessing steps involved if one were to build\n",
        "# the prediction function from scratch or use the preprocessor separately.\n",
        "# However, for prediction using the loaded pipeline, this separate preprocessor\n",
        "# definition is not strictly necessary as the pipeline handles it internally.\n",
        "# We keep it here to show the transformations applied.\n",
        "preprocessor = ColumnTransformer(\n",
        "    transformers=[\n",
        "        ('cat', OneHotEncoder(handle_unknown='ignore'), categorical_features),\n",
        "        ('num', loaded_scaler, numerical_features_to_scale)\n",
        "    ],\n",
        "    remainder='passthrough' # Keep other columns ('Year' in this case)\n",
        ")\n",
        "\n",
        "\n",
        "def predict_tuberculosis_cases(new_data_df):\n",
        "  \"\"\"\n",
        "  Predicts the number of new tuberculosis cases using the trained Random Forest model.\n",
        "\n",
        "  Args:\n",
        "    new_data_df: A pandas DataFrame containing the new data for prediction.\n",
        "                   It should have the same columns as the features used during\n",
        "                   training (excluding the target), including 'Entity', 'Year',\n",
        "                   and the numerical features listed in numerical_features_to_scale.\n",
        "\n",
        "  Returns:\n",
        "    A numpy array containing the predicted number of tuberculosis cases.\n",
        "  \"\"\"\n",
        "  # The loaded_rf_model is a pipeline that includes the preprocessor.\n",
        "  # We can directly call predict on the pipeline with the raw new data.\n",
        "  predictions = loaded_rf_model.predict(new_data_df)\n",
        "\n",
        "  return predictions\n",
        "\n",
        "# Example Usage:\n",
        "if __name__ == \"__main__\":\n",
        "    # Create sample new data\n",
        "    sample_new_data_1 = pd.DataFrame({\n",
        "        'Entity': ['Afghanistan', 'World'],\n",
        "        'Year': [2024, 2024],\n",
        "        'Total (estimated) polio cases': [10.0, 5000.0],\n",
        "        'Reported cases of guinea worm disease in humans': [0.0, 100.0],\n",
        "        'Number of new cases of rabies, in both sexes aged all ages': [5.0, 500.0],\n",
        "        'Number of new cases of malaria, in both sexes aged all ages': [1000.0, 1000000.0],\n",
        "        'Number of new cases of hiv/aids, in both sexes aged all ages': [50.0, 50000.0]\n",
        "    })\n",
        "\n",
        "    sample_new_data_2 = pd.DataFrame({\n",
        "        'Entity': ['India', 'United States'],\n",
        "        'Year': [2023, 2025],\n",
        "        'Total (estimated) polio cases': [0.0, 0.0],\n",
        "        'Reported cases of guinea worm disease in humans': [0.0, 0.0],\n",
        "        'Number of new cases of rabies, in both sexes aged all ages': [10.0, 2.0],\n",
        "        'Number of new cases of malaria, in both sexes aged all ages': [50000.0, 100.0],\n",
        "        'Number of new cases of hiv/aids, in both sexes aged all ages': [10000.0, 500.0]\n",
        "    })\n",
        "\n",
        "\n",
        "    # Make predictions using the prediction function for sample_new_data_1\n",
        "    sample_predictions_1 = predict_tuberculosis_cases(sample_new_data_1)\n",
        "\n",
        "    # Print the predictions for sample_new_data_1\n",
        "    print(\"Predictions for sample new data 1:\")\n",
        "    print(sample_predictions_1)\n",
        "\n",
        "    print(\"-\" * 30) # Separator\n",
        "\n",
        "    # Make predictions using the prediction function for sample_new_data_2\n",
        "    sample_predictions_2 = predict_tuberculosis_cases(sample_new_data_2)\n",
        "\n",
        "    # Print the predictions for sample_new_data_2\n",
        "    print(\"Predictions for sample new data 2:\")\n",
        "    print(sample_predictions_2)"
      ],
      "execution_count": 46,
      "outputs": [
        {
          "output_type": "stream",
          "name": "stdout",
          "text": [
            "Overwriting predict_tuberculosis.py\n"
          ]
        }
      ]
    },
    {
      "cell_type": "markdown",
      "metadata": {
        "id": "81bdddcd"
      },
      "source": [
        "## Summary:\n",
        "\n",
        "### Data Analysis Key Findings\n",
        "\n",
        "* The Random Forest model and the StandardScaler object were successfully loaded from 'rf\\_model.pkl' and 'scaler.pkl' using `joblib`.\n",
        "* A `ColumnTransformer` was defined to specify the preprocessing steps: one-hot encoding for the 'Entity' column and scaling for the numerical features.\n",
        "* A Python function `predict_tuberculosis_cases` was created to take new data, preprocess it using the defined steps (implicitly handled by the loaded pipeline model), and return predictions.\n",
        "* An example usage with sample data demonstrated that the loaded Random Forest model is a pipeline capable of performing both preprocessing and prediction directly on raw input data.\n",
        "\n",
        "### Insights or Next Steps\n",
        "\n",
        "* The script `predict_tuberculosis.py` is ready to be deployed for making predictions on new, unseen data regarding tuberculosis cases, provided the input data has the expected column structure.\n",
        "* Further steps could involve integrating this script into a web service (e.g., Flask or FastAPI) or a larger data processing pipeline to enable real-time or batch predictions."
      ]
    },
    {
      "cell_type": "markdown",
      "metadata": {
        "id": "ce1308f8"
      },
      "source": [
        "To run the `predict_tuberculosis.py` script from this Colab notebook, you can use the `!` prefix to execute a shell command.\n",
        "\n",
        "Make sure you have the `rf_model.pkl` and `scaler.pkl` files in the same directory as the script, or provide the correct paths in the script if they are located elsewhere."
      ]
    },
    {
      "cell_type": "code",
      "metadata": {
        "colab": {
          "base_uri": "https://localhost:8080/"
        },
        "id": "de18c0b3",
        "outputId": "f3eb906f-07e5-472d-dbfd-672839ea6c34"
      },
      "source": [
        "!python predict_tuberculosis.py"
      ],
      "execution_count": 45,
      "outputs": [
        {
          "output_type": "stream",
          "name": "stdout",
          "text": [
            "Predictions for sample new data:\n",
            "[10.73344063 11.93360296]\n"
          ]
        }
      ]
    },
    {
      "cell_type": "code",
      "metadata": {
        "colab": {
          "base_uri": "https://localhost:8080/"
        },
        "id": "055fbbb2",
        "outputId": "22b4b4f2-a7a1-4522-bdfd-181981a6351f"
      },
      "source": [
        "!python predict_tuberculosis.py"
      ],
      "execution_count": 47,
      "outputs": [
        {
          "output_type": "stream",
          "name": "stdout",
          "text": [
            "Predictions for sample new data 1:\n",
            "[10.73344063 11.93360296]\n",
            "------------------------------\n",
            "Predictions for sample new data 2:\n",
            "[10.75665473  2.34121061]\n"
          ]
        }
      ]
    }
  ]
}